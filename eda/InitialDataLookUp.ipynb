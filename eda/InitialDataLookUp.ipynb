{
 "cells": [
  {
   "cell_type": "code",
   "execution_count": 213,
   "metadata": {
    "collapsed": true
   },
   "outputs": [],
   "source": [
    "import pandas as pd\n",
    "import numpy as np\n",
    "import matplotlib.pyplot as plt\n",
    "%matplotlib inline"
   ]
  },
  {
   "cell_type": "code",
   "execution_count": 214,
   "metadata": {
    "collapsed": false
   },
   "outputs": [],
   "source": [
    "# Loading a sample of data set\n",
    "df = pd.read_csv('../data/UKPN-LCL-smartmeter-sample.csv.csv')"
   ]
  },
  {
   "cell_type": "code",
   "execution_count": 215,
   "metadata": {
    "collapsed": false
   },
   "outputs": [
    {
     "name": "stdout",
     "output_type": "stream",
     "text": [
      "<class 'pandas.core.frame.DataFrame'>\n",
      "RangeIndex: 17458 entries, 0 to 17457\n",
      "Data columns (total 6 columns):\n",
      "LCLid                      17458 non-null object\n",
      "stdorToU                   17458 non-null object\n",
      "DateTime                   17458 non-null object\n",
      "KWH/hh (per half hour)     17458 non-null object\n",
      "Acorn                      17458 non-null object\n",
      "Acorn_grouped              17458 non-null object\n",
      "dtypes: object(6)\n",
      "memory usage: 818.4+ KB\n"
     ]
    }
   ],
   "source": [
    "df.info()"
   ]
  },
  {
   "cell_type": "code",
   "execution_count": 216,
   "metadata": {
    "collapsed": false
   },
   "outputs": [
    {
     "data": {
      "text/html": [
       "<div>\n",
       "<table border=\"1\" class=\"dataframe\">\n",
       "  <thead>\n",
       "    <tr style=\"text-align: right;\">\n",
       "      <th></th>\n",
       "      <th>LCLid</th>\n",
       "      <th>stdorToU</th>\n",
       "      <th>DateTime</th>\n",
       "      <th>KWH/hh (per half hour)</th>\n",
       "      <th>Acorn</th>\n",
       "      <th>Acorn_grouped</th>\n",
       "    </tr>\n",
       "  </thead>\n",
       "  <tbody>\n",
       "    <tr>\n",
       "      <th>0</th>\n",
       "      <td>MAC003718</td>\n",
       "      <td>Std</td>\n",
       "      <td>17/10/2012 13:00:00</td>\n",
       "      <td>0.09</td>\n",
       "      <td>ACORN-A</td>\n",
       "      <td>Affluent</td>\n",
       "    </tr>\n",
       "    <tr>\n",
       "      <th>1</th>\n",
       "      <td>MAC003718</td>\n",
       "      <td>Std</td>\n",
       "      <td>17/10/2012 13:30:00</td>\n",
       "      <td>0.16</td>\n",
       "      <td>ACORN-A</td>\n",
       "      <td>Affluent</td>\n",
       "    </tr>\n",
       "    <tr>\n",
       "      <th>2</th>\n",
       "      <td>MAC003718</td>\n",
       "      <td>Std</td>\n",
       "      <td>17/10/2012 14:00:00</td>\n",
       "      <td>0.212</td>\n",
       "      <td>ACORN-A</td>\n",
       "      <td>Affluent</td>\n",
       "    </tr>\n",
       "    <tr>\n",
       "      <th>3</th>\n",
       "      <td>MAC003718</td>\n",
       "      <td>Std</td>\n",
       "      <td>17/10/2012 14:30:00</td>\n",
       "      <td>0.145</td>\n",
       "      <td>ACORN-A</td>\n",
       "      <td>Affluent</td>\n",
       "    </tr>\n",
       "    <tr>\n",
       "      <th>4</th>\n",
       "      <td>MAC003718</td>\n",
       "      <td>Std</td>\n",
       "      <td>17/10/2012 15:00:00</td>\n",
       "      <td>0.104</td>\n",
       "      <td>ACORN-A</td>\n",
       "      <td>Affluent</td>\n",
       "    </tr>\n",
       "  </tbody>\n",
       "</table>\n",
       "</div>"
      ],
      "text/plain": [
       "       LCLid stdorToU             DateTime KWH/hh (per half hour)     Acorn  \\\n",
       "0  MAC003718      Std  17/10/2012 13:00:00                    0.09  ACORN-A   \n",
       "1  MAC003718      Std  17/10/2012 13:30:00                    0.16  ACORN-A   \n",
       "2  MAC003718      Std  17/10/2012 14:00:00                   0.212  ACORN-A   \n",
       "3  MAC003718      Std  17/10/2012 14:30:00                   0.145  ACORN-A   \n",
       "4  MAC003718      Std  17/10/2012 15:00:00                   0.104  ACORN-A   \n",
       "\n",
       "  Acorn_grouped  \n",
       "0      Affluent  \n",
       "1      Affluent  \n",
       "2      Affluent  \n",
       "3      Affluent  \n",
       "4      Affluent  "
      ]
     },
     "execution_count": 216,
     "metadata": {},
     "output_type": "execute_result"
    }
   ],
   "source": [
    "df.head()"
   ]
  },
  {
   "cell_type": "code",
   "execution_count": 217,
   "metadata": {
    "collapsed": false
   },
   "outputs": [
    {
     "data": {
      "text/html": [
       "<div>\n",
       "<table border=\"1\" class=\"dataframe\">\n",
       "  <thead>\n",
       "    <tr style=\"text-align: right;\">\n",
       "      <th></th>\n",
       "      <th>LCLid</th>\n",
       "      <th>stdorToU</th>\n",
       "      <th>DateTime</th>\n",
       "      <th>KWH/hh (per half hour)</th>\n",
       "      <th>Acorn</th>\n",
       "      <th>Acorn_grouped</th>\n",
       "    </tr>\n",
       "  </thead>\n",
       "  <tbody>\n",
       "    <tr>\n",
       "      <th>17453</th>\n",
       "      <td>MAC003718</td>\n",
       "      <td>Std</td>\n",
       "      <td>15/10/2013 22:00:00</td>\n",
       "      <td>0.806</td>\n",
       "      <td>ACORN-A</td>\n",
       "      <td>Affluent</td>\n",
       "    </tr>\n",
       "    <tr>\n",
       "      <th>17454</th>\n",
       "      <td>MAC003718</td>\n",
       "      <td>Std</td>\n",
       "      <td>15/10/2013 22:30:00</td>\n",
       "      <td>0.515</td>\n",
       "      <td>ACORN-A</td>\n",
       "      <td>Affluent</td>\n",
       "    </tr>\n",
       "    <tr>\n",
       "      <th>17455</th>\n",
       "      <td>MAC003718</td>\n",
       "      <td>Std</td>\n",
       "      <td>15/10/2013 23:00:00</td>\n",
       "      <td>0.096</td>\n",
       "      <td>ACORN-A</td>\n",
       "      <td>Affluent</td>\n",
       "    </tr>\n",
       "    <tr>\n",
       "      <th>17456</th>\n",
       "      <td>MAC003718</td>\n",
       "      <td>Std</td>\n",
       "      <td>15/10/2013 23:30:00</td>\n",
       "      <td>0.087</td>\n",
       "      <td>ACORN-A</td>\n",
       "      <td>Affluent</td>\n",
       "    </tr>\n",
       "    <tr>\n",
       "      <th>17457</th>\n",
       "      <td>MAC003718</td>\n",
       "      <td>Std</td>\n",
       "      <td>16/10/2013 00:00:00</td>\n",
       "      <td>0.089</td>\n",
       "      <td>ACORN-A</td>\n",
       "      <td>Affluent</td>\n",
       "    </tr>\n",
       "  </tbody>\n",
       "</table>\n",
       "</div>"
      ],
      "text/plain": [
       "           LCLid stdorToU             DateTime KWH/hh (per half hour)   \\\n",
       "17453  MAC003718      Std  15/10/2013 22:00:00                   0.806   \n",
       "17454  MAC003718      Std  15/10/2013 22:30:00                   0.515   \n",
       "17455  MAC003718      Std  15/10/2013 23:00:00                   0.096   \n",
       "17456  MAC003718      Std  15/10/2013 23:30:00                   0.087   \n",
       "17457  MAC003718      Std  16/10/2013 00:00:00                   0.089   \n",
       "\n",
       "         Acorn Acorn_grouped  \n",
       "17453  ACORN-A      Affluent  \n",
       "17454  ACORN-A      Affluent  \n",
       "17455  ACORN-A      Affluent  \n",
       "17456  ACORN-A      Affluent  \n",
       "17457  ACORN-A      Affluent  "
      ]
     },
     "execution_count": 217,
     "metadata": {},
     "output_type": "execute_result"
    }
   ],
   "source": [
    "df.tail()"
   ]
  },
  {
   "cell_type": "markdown",
   "metadata": {},
   "source": [
    "## Exploring each column"
   ]
  },
  {
   "cell_type": "code",
   "execution_count": 218,
   "metadata": {
    "collapsed": false
   },
   "outputs": [
    {
     "data": {
      "text/plain": [
       "array(['MAC003718'], dtype=object)"
      ]
     },
     "execution_count": 218,
     "metadata": {},
     "output_type": "execute_result"
    }
   ],
   "source": [
    "df['LCLid'].unique() # unique indentifier of a user/houshold"
   ]
  },
  {
   "cell_type": "code",
   "execution_count": 219,
   "metadata": {
    "collapsed": false
   },
   "outputs": [
    {
     "data": {
      "text/plain": [
       "array(['Std'], dtype=object)"
      ]
     },
     "execution_count": 219,
     "metadata": {},
     "output_type": "execute_result"
    }
   ],
   "source": [
    "df['stdorToU'].unique() # type of user/houshold: STD or ToD"
   ]
  },
  {
   "cell_type": "code",
   "execution_count": 220,
   "metadata": {
    "collapsed": false
   },
   "outputs": [
    {
     "data": {
      "text/plain": [
       "array(['ACORN-A'], dtype=object)"
      ]
     },
     "execution_count": 220,
     "metadata": {},
     "output_type": "execute_result"
    }
   ],
   "source": [
    "df['Acorn'].unique()"
   ]
  },
  {
   "cell_type": "code",
   "execution_count": 221,
   "metadata": {
    "collapsed": false
   },
   "outputs": [
    {
     "data": {
      "text/plain": [
       "array(['Affluent'], dtype=object)"
      ]
     },
     "execution_count": 221,
     "metadata": {},
     "output_type": "execute_result"
    }
   ],
   "source": [
    "df['Acorn_grouped'].unique()"
   ]
  },
  {
   "cell_type": "code",
   "execution_count": 222,
   "metadata": {
    "collapsed": false
   },
   "outputs": [
    {
     "data": {
      "text/plain": [
       "str"
      ]
     },
     "execution_count": 222,
     "metadata": {},
     "output_type": "execute_result"
    }
   ],
   "source": [
    "type(df['DateTime'][0])"
   ]
  },
  {
   "cell_type": "code",
   "execution_count": 223,
   "metadata": {
    "collapsed": false
   },
   "outputs": [
    {
     "data": {
      "text/plain": [
       "Index([u'LCLid', u'stdorToU', u'DateTime', u'KWH/hh (per half hour) ',\n",
       "       u'Acorn', u'Acorn_grouped'],\n",
       "      dtype='object')"
      ]
     },
     "execution_count": 223,
     "metadata": {},
     "output_type": "execute_result"
    }
   ],
   "source": [
    "df.columns"
   ]
  },
  {
   "cell_type": "code",
   "execution_count": 224,
   "metadata": {
    "collapsed": false
   },
   "outputs": [
    {
     "data": {
      "text/plain": [
       "str"
      ]
     },
     "execution_count": 224,
     "metadata": {},
     "output_type": "execute_result"
    }
   ],
   "source": [
    "type(df['KWH/hh (per half hour) '][0])"
   ]
  },
  {
   "cell_type": "code",
   "execution_count": 234,
   "metadata": {
    "collapsed": false
   },
   "outputs": [
    {
     "name": "stdout",
     "output_type": "stream",
     "text": [
      "0.09\n"
     ]
    }
   ],
   "source": [
    "#df['KWH/hh (per half hour)'] = pd.to_numeric(df['KWH/hh (per half hour) '], errors='ignore')\n",
    "#df['KWH/hh (per half hour) '] = df['KWH/hh (per half hour) '].convert_objects(convert_numeric=True)\n",
    "s = df['KWH/hh (per half hour) ']\n",
    "type(s)\n",
    "print s[0]\n",
    "pd.to_numeric(df['KWH/hh (per half hour) '], errors='ignore')\n",
    "df['KWH/hh (per half hour)'] = pd.to_numeric(df['KWH/hh (per half hour) '], errors='coerce')"
   ]
  },
  {
   "cell_type": "code",
   "execution_count": 235,
   "metadata": {
    "collapsed": false
   },
   "outputs": [
    {
     "data": {
      "text/plain": [
       "str"
      ]
     },
     "execution_count": 235,
     "metadata": {},
     "output_type": "execute_result"
    }
   ],
   "source": [
    "type(df['KWH/hh (per half hour) '][0])"
   ]
  },
  {
   "cell_type": "code",
   "execution_count": 236,
   "metadata": {
    "collapsed": false
   },
   "outputs": [
    {
     "data": {
      "text/plain": [
       "numpy.float64"
      ]
     },
     "execution_count": 236,
     "metadata": {},
     "output_type": "execute_result"
    }
   ],
   "source": [
    "type(df['KWH/hh (per half hour)'][0])"
   ]
  },
  {
   "cell_type": "code",
   "execution_count": 237,
   "metadata": {
    "collapsed": false
   },
   "outputs": [],
   "source": [
    "df['date'] = [d.date() for d in pd.to_datetime(df['DateTime'])]\n",
    "df['time'] = [d.time() for d in pd.to_datetime(df['DateTime'])]"
   ]
  },
  {
   "cell_type": "code",
   "execution_count": 238,
   "metadata": {
    "collapsed": false
   },
   "outputs": [
    {
     "data": {
      "text/html": [
       "<div>\n",
       "<table border=\"1\" class=\"dataframe\">\n",
       "  <thead>\n",
       "    <tr style=\"text-align: right;\">\n",
       "      <th></th>\n",
       "      <th>LCLid</th>\n",
       "      <th>stdorToU</th>\n",
       "      <th>DateTime</th>\n",
       "      <th>KWH/hh (per half hour)</th>\n",
       "      <th>Acorn</th>\n",
       "      <th>Acorn_grouped</th>\n",
       "      <th>KWH/hh (per half hour)</th>\n",
       "      <th>date</th>\n",
       "      <th>time</th>\n",
       "    </tr>\n",
       "  </thead>\n",
       "  <tbody>\n",
       "    <tr>\n",
       "      <th>0</th>\n",
       "      <td>MAC003718</td>\n",
       "      <td>Std</td>\n",
       "      <td>17/10/2012 13:00:00</td>\n",
       "      <td>0.09</td>\n",
       "      <td>ACORN-A</td>\n",
       "      <td>Affluent</td>\n",
       "      <td>0.090</td>\n",
       "      <td>2012-10-17</td>\n",
       "      <td>13:00:00</td>\n",
       "    </tr>\n",
       "    <tr>\n",
       "      <th>1</th>\n",
       "      <td>MAC003718</td>\n",
       "      <td>Std</td>\n",
       "      <td>17/10/2012 13:30:00</td>\n",
       "      <td>0.16</td>\n",
       "      <td>ACORN-A</td>\n",
       "      <td>Affluent</td>\n",
       "      <td>0.160</td>\n",
       "      <td>2012-10-17</td>\n",
       "      <td>13:30:00</td>\n",
       "    </tr>\n",
       "    <tr>\n",
       "      <th>2</th>\n",
       "      <td>MAC003718</td>\n",
       "      <td>Std</td>\n",
       "      <td>17/10/2012 14:00:00</td>\n",
       "      <td>0.212</td>\n",
       "      <td>ACORN-A</td>\n",
       "      <td>Affluent</td>\n",
       "      <td>0.212</td>\n",
       "      <td>2012-10-17</td>\n",
       "      <td>14:00:00</td>\n",
       "    </tr>\n",
       "    <tr>\n",
       "      <th>3</th>\n",
       "      <td>MAC003718</td>\n",
       "      <td>Std</td>\n",
       "      <td>17/10/2012 14:30:00</td>\n",
       "      <td>0.145</td>\n",
       "      <td>ACORN-A</td>\n",
       "      <td>Affluent</td>\n",
       "      <td>0.145</td>\n",
       "      <td>2012-10-17</td>\n",
       "      <td>14:30:00</td>\n",
       "    </tr>\n",
       "    <tr>\n",
       "      <th>4</th>\n",
       "      <td>MAC003718</td>\n",
       "      <td>Std</td>\n",
       "      <td>17/10/2012 15:00:00</td>\n",
       "      <td>0.104</td>\n",
       "      <td>ACORN-A</td>\n",
       "      <td>Affluent</td>\n",
       "      <td>0.104</td>\n",
       "      <td>2012-10-17</td>\n",
       "      <td>15:00:00</td>\n",
       "    </tr>\n",
       "  </tbody>\n",
       "</table>\n",
       "</div>"
      ],
      "text/plain": [
       "       LCLid stdorToU             DateTime KWH/hh (per half hour)     Acorn  \\\n",
       "0  MAC003718      Std  17/10/2012 13:00:00                    0.09  ACORN-A   \n",
       "1  MAC003718      Std  17/10/2012 13:30:00                    0.16  ACORN-A   \n",
       "2  MAC003718      Std  17/10/2012 14:00:00                   0.212  ACORN-A   \n",
       "3  MAC003718      Std  17/10/2012 14:30:00                   0.145  ACORN-A   \n",
       "4  MAC003718      Std  17/10/2012 15:00:00                   0.104  ACORN-A   \n",
       "\n",
       "  Acorn_grouped  KWH/hh (per half hour)        date      time  \n",
       "0      Affluent                   0.090  2012-10-17  13:00:00  \n",
       "1      Affluent                   0.160  2012-10-17  13:30:00  \n",
       "2      Affluent                   0.212  2012-10-17  14:00:00  \n",
       "3      Affluent                   0.145  2012-10-17  14:30:00  \n",
       "4      Affluent                   0.104  2012-10-17  15:00:00  "
      ]
     },
     "execution_count": 238,
     "metadata": {},
     "output_type": "execute_result"
    }
   ],
   "source": [
    "df.head()"
   ]
  },
  {
   "cell_type": "code",
   "execution_count": 239,
   "metadata": {
    "collapsed": false
   },
   "outputs": [
    {
     "data": {
      "text/plain": [
       "datetime.date"
      ]
     },
     "execution_count": 239,
     "metadata": {},
     "output_type": "execute_result"
    }
   ],
   "source": [
    "type(df['date'][0])"
   ]
  },
  {
   "cell_type": "code",
   "execution_count": 240,
   "metadata": {
    "collapsed": false
   },
   "outputs": [
    {
     "data": {
      "text/plain": [
       "datetime.time"
      ]
     },
     "execution_count": 240,
     "metadata": {},
     "output_type": "execute_result"
    }
   ],
   "source": [
    "type(df['time'][0])"
   ]
  },
  {
   "cell_type": "code",
   "execution_count": 241,
   "metadata": {
    "collapsed": false
   },
   "outputs": [
    {
     "data": {
      "text/html": [
       "<div>\n",
       "<table border=\"1\" class=\"dataframe\">\n",
       "  <thead>\n",
       "    <tr style=\"text-align: right;\">\n",
       "      <th></th>\n",
       "      <th>LCLid</th>\n",
       "      <th>stdorToU</th>\n",
       "      <th>DateTime</th>\n",
       "      <th>KWH/hh (per half hour)</th>\n",
       "      <th>Acorn</th>\n",
       "      <th>Acorn_grouped</th>\n",
       "      <th>KWH/hh (per half hour)</th>\n",
       "      <th>date</th>\n",
       "      <th>time</th>\n",
       "    </tr>\n",
       "  </thead>\n",
       "  <tbody>\n",
       "    <tr>\n",
       "      <th>22</th>\n",
       "      <td>MAC003718</td>\n",
       "      <td>Std</td>\n",
       "      <td>18/10/2012 00:00:00</td>\n",
       "      <td>0.071</td>\n",
       "      <td>ACORN-A</td>\n",
       "      <td>Affluent</td>\n",
       "      <td>0.071</td>\n",
       "      <td>2012-10-18</td>\n",
       "      <td>00:00:00</td>\n",
       "    </tr>\n",
       "    <tr>\n",
       "      <th>23</th>\n",
       "      <td>MAC003718</td>\n",
       "      <td>Std</td>\n",
       "      <td>18/10/2012 00:30:00</td>\n",
       "      <td>0.102</td>\n",
       "      <td>ACORN-A</td>\n",
       "      <td>Affluent</td>\n",
       "      <td>0.102</td>\n",
       "      <td>2012-10-18</td>\n",
       "      <td>00:30:00</td>\n",
       "    </tr>\n",
       "    <tr>\n",
       "      <th>24</th>\n",
       "      <td>MAC003718</td>\n",
       "      <td>Std</td>\n",
       "      <td>18/10/2012 01:00:00</td>\n",
       "      <td>0.07</td>\n",
       "      <td>ACORN-A</td>\n",
       "      <td>Affluent</td>\n",
       "      <td>0.070</td>\n",
       "      <td>2012-10-18</td>\n",
       "      <td>01:00:00</td>\n",
       "    </tr>\n",
       "    <tr>\n",
       "      <th>25</th>\n",
       "      <td>MAC003718</td>\n",
       "      <td>Std</td>\n",
       "      <td>18/10/2012 01:30:00</td>\n",
       "      <td>0.099</td>\n",
       "      <td>ACORN-A</td>\n",
       "      <td>Affluent</td>\n",
       "      <td>0.099</td>\n",
       "      <td>2012-10-18</td>\n",
       "      <td>01:30:00</td>\n",
       "    </tr>\n",
       "    <tr>\n",
       "      <th>26</th>\n",
       "      <td>MAC003718</td>\n",
       "      <td>Std</td>\n",
       "      <td>18/10/2012 02:00:00</td>\n",
       "      <td>0.101</td>\n",
       "      <td>ACORN-A</td>\n",
       "      <td>Affluent</td>\n",
       "      <td>0.101</td>\n",
       "      <td>2012-10-18</td>\n",
       "      <td>02:00:00</td>\n",
       "    </tr>\n",
       "    <tr>\n",
       "      <th>27</th>\n",
       "      <td>MAC003718</td>\n",
       "      <td>Std</td>\n",
       "      <td>18/10/2012 02:30:00</td>\n",
       "      <td>0.131</td>\n",
       "      <td>ACORN-A</td>\n",
       "      <td>Affluent</td>\n",
       "      <td>0.131</td>\n",
       "      <td>2012-10-18</td>\n",
       "      <td>02:30:00</td>\n",
       "    </tr>\n",
       "    <tr>\n",
       "      <th>28</th>\n",
       "      <td>MAC003718</td>\n",
       "      <td>Std</td>\n",
       "      <td>18/10/2012 03:00:00</td>\n",
       "      <td>0.127</td>\n",
       "      <td>ACORN-A</td>\n",
       "      <td>Affluent</td>\n",
       "      <td>0.127</td>\n",
       "      <td>2012-10-18</td>\n",
       "      <td>03:00:00</td>\n",
       "    </tr>\n",
       "    <tr>\n",
       "      <th>29</th>\n",
       "      <td>MAC003718</td>\n",
       "      <td>Std</td>\n",
       "      <td>18/10/2012 03:30:00</td>\n",
       "      <td>0.114</td>\n",
       "      <td>ACORN-A</td>\n",
       "      <td>Affluent</td>\n",
       "      <td>0.114</td>\n",
       "      <td>2012-10-18</td>\n",
       "      <td>03:30:00</td>\n",
       "    </tr>\n",
       "    <tr>\n",
       "      <th>30</th>\n",
       "      <td>MAC003718</td>\n",
       "      <td>Std</td>\n",
       "      <td>18/10/2012 04:00:00</td>\n",
       "      <td>0.117</td>\n",
       "      <td>ACORN-A</td>\n",
       "      <td>Affluent</td>\n",
       "      <td>0.117</td>\n",
       "      <td>2012-10-18</td>\n",
       "      <td>04:00:00</td>\n",
       "    </tr>\n",
       "    <tr>\n",
       "      <th>31</th>\n",
       "      <td>MAC003718</td>\n",
       "      <td>Std</td>\n",
       "      <td>18/10/2012 04:30:00</td>\n",
       "      <td>0.07</td>\n",
       "      <td>ACORN-A</td>\n",
       "      <td>Affluent</td>\n",
       "      <td>0.070</td>\n",
       "      <td>2012-10-18</td>\n",
       "      <td>04:30:00</td>\n",
       "    </tr>\n",
       "    <tr>\n",
       "      <th>32</th>\n",
       "      <td>MAC003718</td>\n",
       "      <td>Std</td>\n",
       "      <td>18/10/2012 05:00:00</td>\n",
       "      <td>0.101</td>\n",
       "      <td>ACORN-A</td>\n",
       "      <td>Affluent</td>\n",
       "      <td>0.101</td>\n",
       "      <td>2012-10-18</td>\n",
       "      <td>05:00:00</td>\n",
       "    </tr>\n",
       "    <tr>\n",
       "      <th>33</th>\n",
       "      <td>MAC003718</td>\n",
       "      <td>Std</td>\n",
       "      <td>18/10/2012 05:30:00</td>\n",
       "      <td>0.289</td>\n",
       "      <td>ACORN-A</td>\n",
       "      <td>Affluent</td>\n",
       "      <td>0.289</td>\n",
       "      <td>2012-10-18</td>\n",
       "      <td>05:30:00</td>\n",
       "    </tr>\n",
       "    <tr>\n",
       "      <th>34</th>\n",
       "      <td>MAC003718</td>\n",
       "      <td>Std</td>\n",
       "      <td>18/10/2012 06:00:00</td>\n",
       "      <td>0.183</td>\n",
       "      <td>ACORN-A</td>\n",
       "      <td>Affluent</td>\n",
       "      <td>0.183</td>\n",
       "      <td>2012-10-18</td>\n",
       "      <td>06:00:00</td>\n",
       "    </tr>\n",
       "    <tr>\n",
       "      <th>35</th>\n",
       "      <td>MAC003718</td>\n",
       "      <td>Std</td>\n",
       "      <td>18/10/2012 06:30:00</td>\n",
       "      <td>0.261</td>\n",
       "      <td>ACORN-A</td>\n",
       "      <td>Affluent</td>\n",
       "      <td>0.261</td>\n",
       "      <td>2012-10-18</td>\n",
       "      <td>06:30:00</td>\n",
       "    </tr>\n",
       "    <tr>\n",
       "      <th>36</th>\n",
       "      <td>MAC003718</td>\n",
       "      <td>Std</td>\n",
       "      <td>18/10/2012 07:00:00</td>\n",
       "      <td>0.274</td>\n",
       "      <td>ACORN-A</td>\n",
       "      <td>Affluent</td>\n",
       "      <td>0.274</td>\n",
       "      <td>2012-10-18</td>\n",
       "      <td>07:00:00</td>\n",
       "    </tr>\n",
       "    <tr>\n",
       "      <th>37</th>\n",
       "      <td>MAC003718</td>\n",
       "      <td>Std</td>\n",
       "      <td>18/10/2012 07:30:00</td>\n",
       "      <td>0.144</td>\n",
       "      <td>ACORN-A</td>\n",
       "      <td>Affluent</td>\n",
       "      <td>0.144</td>\n",
       "      <td>2012-10-18</td>\n",
       "      <td>07:30:00</td>\n",
       "    </tr>\n",
       "    <tr>\n",
       "      <th>38</th>\n",
       "      <td>MAC003718</td>\n",
       "      <td>Std</td>\n",
       "      <td>18/10/2012 08:00:00</td>\n",
       "      <td>0.206</td>\n",
       "      <td>ACORN-A</td>\n",
       "      <td>Affluent</td>\n",
       "      <td>0.206</td>\n",
       "      <td>2012-10-18</td>\n",
       "      <td>08:00:00</td>\n",
       "    </tr>\n",
       "    <tr>\n",
       "      <th>39</th>\n",
       "      <td>MAC003718</td>\n",
       "      <td>Std</td>\n",
       "      <td>18/10/2012 08:30:00</td>\n",
       "      <td>0.155</td>\n",
       "      <td>ACORN-A</td>\n",
       "      <td>Affluent</td>\n",
       "      <td>0.155</td>\n",
       "      <td>2012-10-18</td>\n",
       "      <td>08:30:00</td>\n",
       "    </tr>\n",
       "    <tr>\n",
       "      <th>40</th>\n",
       "      <td>MAC003718</td>\n",
       "      <td>Std</td>\n",
       "      <td>18/10/2012 09:00:00</td>\n",
       "      <td>0.163</td>\n",
       "      <td>ACORN-A</td>\n",
       "      <td>Affluent</td>\n",
       "      <td>0.163</td>\n",
       "      <td>2012-10-18</td>\n",
       "      <td>09:00:00</td>\n",
       "    </tr>\n",
       "    <tr>\n",
       "      <th>41</th>\n",
       "      <td>MAC003718</td>\n",
       "      <td>Std</td>\n",
       "      <td>18/10/2012 09:30:00</td>\n",
       "      <td>0.188</td>\n",
       "      <td>ACORN-A</td>\n",
       "      <td>Affluent</td>\n",
       "      <td>0.188</td>\n",
       "      <td>2012-10-18</td>\n",
       "      <td>09:30:00</td>\n",
       "    </tr>\n",
       "    <tr>\n",
       "      <th>42</th>\n",
       "      <td>MAC003718</td>\n",
       "      <td>Std</td>\n",
       "      <td>18/10/2012 10:00:00</td>\n",
       "      <td>0.141</td>\n",
       "      <td>ACORN-A</td>\n",
       "      <td>Affluent</td>\n",
       "      <td>0.141</td>\n",
       "      <td>2012-10-18</td>\n",
       "      <td>10:00:00</td>\n",
       "    </tr>\n",
       "    <tr>\n",
       "      <th>43</th>\n",
       "      <td>MAC003718</td>\n",
       "      <td>Std</td>\n",
       "      <td>18/10/2012 10:30:00</td>\n",
       "      <td>0.133</td>\n",
       "      <td>ACORN-A</td>\n",
       "      <td>Affluent</td>\n",
       "      <td>0.133</td>\n",
       "      <td>2012-10-18</td>\n",
       "      <td>10:30:00</td>\n",
       "    </tr>\n",
       "    <tr>\n",
       "      <th>44</th>\n",
       "      <td>MAC003718</td>\n",
       "      <td>Std</td>\n",
       "      <td>18/10/2012 11:00:00</td>\n",
       "      <td>0.068</td>\n",
       "      <td>ACORN-A</td>\n",
       "      <td>Affluent</td>\n",
       "      <td>0.068</td>\n",
       "      <td>2012-10-18</td>\n",
       "      <td>11:00:00</td>\n",
       "    </tr>\n",
       "    <tr>\n",
       "      <th>45</th>\n",
       "      <td>MAC003718</td>\n",
       "      <td>Std</td>\n",
       "      <td>18/10/2012 11:30:00</td>\n",
       "      <td>0.1</td>\n",
       "      <td>ACORN-A</td>\n",
       "      <td>Affluent</td>\n",
       "      <td>0.100</td>\n",
       "      <td>2012-10-18</td>\n",
       "      <td>11:30:00</td>\n",
       "    </tr>\n",
       "    <tr>\n",
       "      <th>46</th>\n",
       "      <td>MAC003718</td>\n",
       "      <td>Std</td>\n",
       "      <td>18/10/2012 12:00:00</td>\n",
       "      <td>0.072</td>\n",
       "      <td>ACORN-A</td>\n",
       "      <td>Affluent</td>\n",
       "      <td>0.072</td>\n",
       "      <td>2012-10-18</td>\n",
       "      <td>12:00:00</td>\n",
       "    </tr>\n",
       "    <tr>\n",
       "      <th>47</th>\n",
       "      <td>MAC003718</td>\n",
       "      <td>Std</td>\n",
       "      <td>18/10/2012 12:30:00</td>\n",
       "      <td>0.108</td>\n",
       "      <td>ACORN-A</td>\n",
       "      <td>Affluent</td>\n",
       "      <td>0.108</td>\n",
       "      <td>2012-10-18</td>\n",
       "      <td>12:30:00</td>\n",
       "    </tr>\n",
       "    <tr>\n",
       "      <th>48</th>\n",
       "      <td>MAC003718</td>\n",
       "      <td>Std</td>\n",
       "      <td>18/10/2012 13:00:00</td>\n",
       "      <td>0.09</td>\n",
       "      <td>ACORN-A</td>\n",
       "      <td>Affluent</td>\n",
       "      <td>0.090</td>\n",
       "      <td>2012-10-18</td>\n",
       "      <td>13:00:00</td>\n",
       "    </tr>\n",
       "    <tr>\n",
       "      <th>49</th>\n",
       "      <td>MAC003718</td>\n",
       "      <td>Std</td>\n",
       "      <td>18/10/2012 13:30:00</td>\n",
       "      <td>0.099</td>\n",
       "      <td>ACORN-A</td>\n",
       "      <td>Affluent</td>\n",
       "      <td>0.099</td>\n",
       "      <td>2012-10-18</td>\n",
       "      <td>13:30:00</td>\n",
       "    </tr>\n",
       "    <tr>\n",
       "      <th>50</th>\n",
       "      <td>MAC003718</td>\n",
       "      <td>Std</td>\n",
       "      <td>18/10/2012 14:00:00</td>\n",
       "      <td>0.112</td>\n",
       "      <td>ACORN-A</td>\n",
       "      <td>Affluent</td>\n",
       "      <td>0.112</td>\n",
       "      <td>2012-10-18</td>\n",
       "      <td>14:00:00</td>\n",
       "    </tr>\n",
       "    <tr>\n",
       "      <th>51</th>\n",
       "      <td>MAC003718</td>\n",
       "      <td>Std</td>\n",
       "      <td>18/10/2012 14:30:00</td>\n",
       "      <td>0.213</td>\n",
       "      <td>ACORN-A</td>\n",
       "      <td>Affluent</td>\n",
       "      <td>0.213</td>\n",
       "      <td>2012-10-18</td>\n",
       "      <td>14:30:00</td>\n",
       "    </tr>\n",
       "    <tr>\n",
       "      <th>52</th>\n",
       "      <td>MAC003718</td>\n",
       "      <td>Std</td>\n",
       "      <td>18/10/2012 15:00:00</td>\n",
       "      <td>0.162</td>\n",
       "      <td>ACORN-A</td>\n",
       "      <td>Affluent</td>\n",
       "      <td>0.162</td>\n",
       "      <td>2012-10-18</td>\n",
       "      <td>15:00:00</td>\n",
       "    </tr>\n",
       "    <tr>\n",
       "      <th>53</th>\n",
       "      <td>MAC003718</td>\n",
       "      <td>Std</td>\n",
       "      <td>18/10/2012 15:30:00</td>\n",
       "      <td>0.111</td>\n",
       "      <td>ACORN-A</td>\n",
       "      <td>Affluent</td>\n",
       "      <td>0.111</td>\n",
       "      <td>2012-10-18</td>\n",
       "      <td>15:30:00</td>\n",
       "    </tr>\n",
       "    <tr>\n",
       "      <th>54</th>\n",
       "      <td>MAC003718</td>\n",
       "      <td>Std</td>\n",
       "      <td>18/10/2012 16:00:00</td>\n",
       "      <td>0.194</td>\n",
       "      <td>ACORN-A</td>\n",
       "      <td>Affluent</td>\n",
       "      <td>0.194</td>\n",
       "      <td>2012-10-18</td>\n",
       "      <td>16:00:00</td>\n",
       "    </tr>\n",
       "    <tr>\n",
       "      <th>55</th>\n",
       "      <td>MAC003718</td>\n",
       "      <td>Std</td>\n",
       "      <td>18/10/2012 16:30:00</td>\n",
       "      <td>0.12</td>\n",
       "      <td>ACORN-A</td>\n",
       "      <td>Affluent</td>\n",
       "      <td>0.120</td>\n",
       "      <td>2012-10-18</td>\n",
       "      <td>16:30:00</td>\n",
       "    </tr>\n",
       "    <tr>\n",
       "      <th>56</th>\n",
       "      <td>MAC003718</td>\n",
       "      <td>Std</td>\n",
       "      <td>18/10/2012 17:00:00</td>\n",
       "      <td>0.149</td>\n",
       "      <td>ACORN-A</td>\n",
       "      <td>Affluent</td>\n",
       "      <td>0.149</td>\n",
       "      <td>2012-10-18</td>\n",
       "      <td>17:00:00</td>\n",
       "    </tr>\n",
       "    <tr>\n",
       "      <th>57</th>\n",
       "      <td>MAC003718</td>\n",
       "      <td>Std</td>\n",
       "      <td>18/10/2012 17:30:00</td>\n",
       "      <td>0.08</td>\n",
       "      <td>ACORN-A</td>\n",
       "      <td>Affluent</td>\n",
       "      <td>0.080</td>\n",
       "      <td>2012-10-18</td>\n",
       "      <td>17:30:00</td>\n",
       "    </tr>\n",
       "    <tr>\n",
       "      <th>58</th>\n",
       "      <td>MAC003718</td>\n",
       "      <td>Std</td>\n",
       "      <td>18/10/2012 18:00:00</td>\n",
       "      <td>0.141</td>\n",
       "      <td>ACORN-A</td>\n",
       "      <td>Affluent</td>\n",
       "      <td>0.141</td>\n",
       "      <td>2012-10-18</td>\n",
       "      <td>18:00:00</td>\n",
       "    </tr>\n",
       "    <tr>\n",
       "      <th>59</th>\n",
       "      <td>MAC003718</td>\n",
       "      <td>Std</td>\n",
       "      <td>18/10/2012 18:30:00</td>\n",
       "      <td>0.511</td>\n",
       "      <td>ACORN-A</td>\n",
       "      <td>Affluent</td>\n",
       "      <td>0.511</td>\n",
       "      <td>2012-10-18</td>\n",
       "      <td>18:30:00</td>\n",
       "    </tr>\n",
       "    <tr>\n",
       "      <th>60</th>\n",
       "      <td>MAC003718</td>\n",
       "      <td>Std</td>\n",
       "      <td>18/10/2012 19:00:00</td>\n",
       "      <td>0.504</td>\n",
       "      <td>ACORN-A</td>\n",
       "      <td>Affluent</td>\n",
       "      <td>0.504</td>\n",
       "      <td>2012-10-18</td>\n",
       "      <td>19:00:00</td>\n",
       "    </tr>\n",
       "    <tr>\n",
       "      <th>61</th>\n",
       "      <td>MAC003718</td>\n",
       "      <td>Std</td>\n",
       "      <td>18/10/2012 19:30:00</td>\n",
       "      <td>0.315</td>\n",
       "      <td>ACORN-A</td>\n",
       "      <td>Affluent</td>\n",
       "      <td>0.315</td>\n",
       "      <td>2012-10-18</td>\n",
       "      <td>19:30:00</td>\n",
       "    </tr>\n",
       "    <tr>\n",
       "      <th>62</th>\n",
       "      <td>MAC003718</td>\n",
       "      <td>Std</td>\n",
       "      <td>18/10/2012 20:00:00</td>\n",
       "      <td>0.374</td>\n",
       "      <td>ACORN-A</td>\n",
       "      <td>Affluent</td>\n",
       "      <td>0.374</td>\n",
       "      <td>2012-10-18</td>\n",
       "      <td>20:00:00</td>\n",
       "    </tr>\n",
       "    <tr>\n",
       "      <th>63</th>\n",
       "      <td>MAC003718</td>\n",
       "      <td>Std</td>\n",
       "      <td>18/10/2012 20:30:00</td>\n",
       "      <td>0.383</td>\n",
       "      <td>ACORN-A</td>\n",
       "      <td>Affluent</td>\n",
       "      <td>0.383</td>\n",
       "      <td>2012-10-18</td>\n",
       "      <td>20:30:00</td>\n",
       "    </tr>\n",
       "    <tr>\n",
       "      <th>64</th>\n",
       "      <td>MAC003718</td>\n",
       "      <td>Std</td>\n",
       "      <td>18/10/2012 21:00:00</td>\n",
       "      <td>0.358</td>\n",
       "      <td>ACORN-A</td>\n",
       "      <td>Affluent</td>\n",
       "      <td>0.358</td>\n",
       "      <td>2012-10-18</td>\n",
       "      <td>21:00:00</td>\n",
       "    </tr>\n",
       "    <tr>\n",
       "      <th>65</th>\n",
       "      <td>MAC003718</td>\n",
       "      <td>Std</td>\n",
       "      <td>18/10/2012 21:30:00</td>\n",
       "      <td>0.533</td>\n",
       "      <td>ACORN-A</td>\n",
       "      <td>Affluent</td>\n",
       "      <td>0.533</td>\n",
       "      <td>2012-10-18</td>\n",
       "      <td>21:30:00</td>\n",
       "    </tr>\n",
       "    <tr>\n",
       "      <th>66</th>\n",
       "      <td>MAC003718</td>\n",
       "      <td>Std</td>\n",
       "      <td>18/10/2012 22:00:00</td>\n",
       "      <td>0.735</td>\n",
       "      <td>ACORN-A</td>\n",
       "      <td>Affluent</td>\n",
       "      <td>0.735</td>\n",
       "      <td>2012-10-18</td>\n",
       "      <td>22:00:00</td>\n",
       "    </tr>\n",
       "    <tr>\n",
       "      <th>67</th>\n",
       "      <td>MAC003718</td>\n",
       "      <td>Std</td>\n",
       "      <td>18/10/2012 22:30:00</td>\n",
       "      <td>0.504</td>\n",
       "      <td>ACORN-A</td>\n",
       "      <td>Affluent</td>\n",
       "      <td>0.504</td>\n",
       "      <td>2012-10-18</td>\n",
       "      <td>22:30:00</td>\n",
       "    </tr>\n",
       "    <tr>\n",
       "      <th>68</th>\n",
       "      <td>MAC003718</td>\n",
       "      <td>Std</td>\n",
       "      <td>18/10/2012 23:00:00</td>\n",
       "      <td>0.398</td>\n",
       "      <td>ACORN-A</td>\n",
       "      <td>Affluent</td>\n",
       "      <td>0.398</td>\n",
       "      <td>2012-10-18</td>\n",
       "      <td>23:00:00</td>\n",
       "    </tr>\n",
       "    <tr>\n",
       "      <th>69</th>\n",
       "      <td>MAC003718</td>\n",
       "      <td>Std</td>\n",
       "      <td>18/10/2012 23:30:00</td>\n",
       "      <td>0.095</td>\n",
       "      <td>ACORN-A</td>\n",
       "      <td>Affluent</td>\n",
       "      <td>0.095</td>\n",
       "      <td>2012-10-18</td>\n",
       "      <td>23:30:00</td>\n",
       "    </tr>\n",
       "  </tbody>\n",
       "</table>\n",
       "</div>"
      ],
      "text/plain": [
       "        LCLid stdorToU             DateTime KWH/hh (per half hour)     Acorn  \\\n",
       "22  MAC003718      Std  18/10/2012 00:00:00                   0.071  ACORN-A   \n",
       "23  MAC003718      Std  18/10/2012 00:30:00                   0.102  ACORN-A   \n",
       "24  MAC003718      Std  18/10/2012 01:00:00                    0.07  ACORN-A   \n",
       "25  MAC003718      Std  18/10/2012 01:30:00                   0.099  ACORN-A   \n",
       "26  MAC003718      Std  18/10/2012 02:00:00                   0.101  ACORN-A   \n",
       "27  MAC003718      Std  18/10/2012 02:30:00                   0.131  ACORN-A   \n",
       "28  MAC003718      Std  18/10/2012 03:00:00                   0.127  ACORN-A   \n",
       "29  MAC003718      Std  18/10/2012 03:30:00                   0.114  ACORN-A   \n",
       "30  MAC003718      Std  18/10/2012 04:00:00                   0.117  ACORN-A   \n",
       "31  MAC003718      Std  18/10/2012 04:30:00                    0.07  ACORN-A   \n",
       "32  MAC003718      Std  18/10/2012 05:00:00                   0.101  ACORN-A   \n",
       "33  MAC003718      Std  18/10/2012 05:30:00                   0.289  ACORN-A   \n",
       "34  MAC003718      Std  18/10/2012 06:00:00                   0.183  ACORN-A   \n",
       "35  MAC003718      Std  18/10/2012 06:30:00                   0.261  ACORN-A   \n",
       "36  MAC003718      Std  18/10/2012 07:00:00                   0.274  ACORN-A   \n",
       "37  MAC003718      Std  18/10/2012 07:30:00                   0.144  ACORN-A   \n",
       "38  MAC003718      Std  18/10/2012 08:00:00                   0.206  ACORN-A   \n",
       "39  MAC003718      Std  18/10/2012 08:30:00                   0.155  ACORN-A   \n",
       "40  MAC003718      Std  18/10/2012 09:00:00                   0.163  ACORN-A   \n",
       "41  MAC003718      Std  18/10/2012 09:30:00                   0.188  ACORN-A   \n",
       "42  MAC003718      Std  18/10/2012 10:00:00                   0.141  ACORN-A   \n",
       "43  MAC003718      Std  18/10/2012 10:30:00                   0.133  ACORN-A   \n",
       "44  MAC003718      Std  18/10/2012 11:00:00                   0.068  ACORN-A   \n",
       "45  MAC003718      Std  18/10/2012 11:30:00                     0.1  ACORN-A   \n",
       "46  MAC003718      Std  18/10/2012 12:00:00                   0.072  ACORN-A   \n",
       "47  MAC003718      Std  18/10/2012 12:30:00                   0.108  ACORN-A   \n",
       "48  MAC003718      Std  18/10/2012 13:00:00                    0.09  ACORN-A   \n",
       "49  MAC003718      Std  18/10/2012 13:30:00                   0.099  ACORN-A   \n",
       "50  MAC003718      Std  18/10/2012 14:00:00                   0.112  ACORN-A   \n",
       "51  MAC003718      Std  18/10/2012 14:30:00                   0.213  ACORN-A   \n",
       "52  MAC003718      Std  18/10/2012 15:00:00                   0.162  ACORN-A   \n",
       "53  MAC003718      Std  18/10/2012 15:30:00                   0.111  ACORN-A   \n",
       "54  MAC003718      Std  18/10/2012 16:00:00                   0.194  ACORN-A   \n",
       "55  MAC003718      Std  18/10/2012 16:30:00                    0.12  ACORN-A   \n",
       "56  MAC003718      Std  18/10/2012 17:00:00                   0.149  ACORN-A   \n",
       "57  MAC003718      Std  18/10/2012 17:30:00                    0.08  ACORN-A   \n",
       "58  MAC003718      Std  18/10/2012 18:00:00                   0.141  ACORN-A   \n",
       "59  MAC003718      Std  18/10/2012 18:30:00                   0.511  ACORN-A   \n",
       "60  MAC003718      Std  18/10/2012 19:00:00                   0.504  ACORN-A   \n",
       "61  MAC003718      Std  18/10/2012 19:30:00                   0.315  ACORN-A   \n",
       "62  MAC003718      Std  18/10/2012 20:00:00                   0.374  ACORN-A   \n",
       "63  MAC003718      Std  18/10/2012 20:30:00                   0.383  ACORN-A   \n",
       "64  MAC003718      Std  18/10/2012 21:00:00                   0.358  ACORN-A   \n",
       "65  MAC003718      Std  18/10/2012 21:30:00                   0.533  ACORN-A   \n",
       "66  MAC003718      Std  18/10/2012 22:00:00                   0.735  ACORN-A   \n",
       "67  MAC003718      Std  18/10/2012 22:30:00                   0.504  ACORN-A   \n",
       "68  MAC003718      Std  18/10/2012 23:00:00                   0.398  ACORN-A   \n",
       "69  MAC003718      Std  18/10/2012 23:30:00                   0.095  ACORN-A   \n",
       "\n",
       "   Acorn_grouped  KWH/hh (per half hour)        date      time  \n",
       "22      Affluent                   0.071  2012-10-18  00:00:00  \n",
       "23      Affluent                   0.102  2012-10-18  00:30:00  \n",
       "24      Affluent                   0.070  2012-10-18  01:00:00  \n",
       "25      Affluent                   0.099  2012-10-18  01:30:00  \n",
       "26      Affluent                   0.101  2012-10-18  02:00:00  \n",
       "27      Affluent                   0.131  2012-10-18  02:30:00  \n",
       "28      Affluent                   0.127  2012-10-18  03:00:00  \n",
       "29      Affluent                   0.114  2012-10-18  03:30:00  \n",
       "30      Affluent                   0.117  2012-10-18  04:00:00  \n",
       "31      Affluent                   0.070  2012-10-18  04:30:00  \n",
       "32      Affluent                   0.101  2012-10-18  05:00:00  \n",
       "33      Affluent                   0.289  2012-10-18  05:30:00  \n",
       "34      Affluent                   0.183  2012-10-18  06:00:00  \n",
       "35      Affluent                   0.261  2012-10-18  06:30:00  \n",
       "36      Affluent                   0.274  2012-10-18  07:00:00  \n",
       "37      Affluent                   0.144  2012-10-18  07:30:00  \n",
       "38      Affluent                   0.206  2012-10-18  08:00:00  \n",
       "39      Affluent                   0.155  2012-10-18  08:30:00  \n",
       "40      Affluent                   0.163  2012-10-18  09:00:00  \n",
       "41      Affluent                   0.188  2012-10-18  09:30:00  \n",
       "42      Affluent                   0.141  2012-10-18  10:00:00  \n",
       "43      Affluent                   0.133  2012-10-18  10:30:00  \n",
       "44      Affluent                   0.068  2012-10-18  11:00:00  \n",
       "45      Affluent                   0.100  2012-10-18  11:30:00  \n",
       "46      Affluent                   0.072  2012-10-18  12:00:00  \n",
       "47      Affluent                   0.108  2012-10-18  12:30:00  \n",
       "48      Affluent                   0.090  2012-10-18  13:00:00  \n",
       "49      Affluent                   0.099  2012-10-18  13:30:00  \n",
       "50      Affluent                   0.112  2012-10-18  14:00:00  \n",
       "51      Affluent                   0.213  2012-10-18  14:30:00  \n",
       "52      Affluent                   0.162  2012-10-18  15:00:00  \n",
       "53      Affluent                   0.111  2012-10-18  15:30:00  \n",
       "54      Affluent                   0.194  2012-10-18  16:00:00  \n",
       "55      Affluent                   0.120  2012-10-18  16:30:00  \n",
       "56      Affluent                   0.149  2012-10-18  17:00:00  \n",
       "57      Affluent                   0.080  2012-10-18  17:30:00  \n",
       "58      Affluent                   0.141  2012-10-18  18:00:00  \n",
       "59      Affluent                   0.511  2012-10-18  18:30:00  \n",
       "60      Affluent                   0.504  2012-10-18  19:00:00  \n",
       "61      Affluent                   0.315  2012-10-18  19:30:00  \n",
       "62      Affluent                   0.374  2012-10-18  20:00:00  \n",
       "63      Affluent                   0.383  2012-10-18  20:30:00  \n",
       "64      Affluent                   0.358  2012-10-18  21:00:00  \n",
       "65      Affluent                   0.533  2012-10-18  21:30:00  \n",
       "66      Affluent                   0.735  2012-10-18  22:00:00  \n",
       "67      Affluent                   0.504  2012-10-18  22:30:00  \n",
       "68      Affluent                   0.398  2012-10-18  23:00:00  \n",
       "69      Affluent                   0.095  2012-10-18  23:30:00  "
      ]
     },
     "execution_count": 241,
     "metadata": {},
     "output_type": "execute_result"
    }
   ],
   "source": [
    "df[df['date'] == df['date'][22]]"
   ]
  },
  {
   "cell_type": "code",
   "execution_count": 244,
   "metadata": {
    "collapsed": false
   },
   "outputs": [],
   "source": [
    "def plot_one_day_usage(date):\n",
    "    # INPUT: str type in the format: (dd/mm/yyyy), for example -> '17/10/2012'\n",
    "    date = pd.to_datetime(date).date()\n",
    "    x = df[df['date'] == date]['time']\n",
    "    y = df[df['date'] == date]['KWH/hh (per half hour)']\n",
    "    #\n",
    "    plt.figure(figsize=(11,11))\n",
    "    plt.plot(x, y)\n",
    "    plt.xlabel('time')\n",
    "    plt.ylabel('KWH/hh (per half hour)')\n",
    "    plt.title('Date: {}'.format(date))"
   ]
  },
  {
   "cell_type": "code",
   "execution_count": 245,
   "metadata": {
    "collapsed": false
   },
   "outputs": [
    {
     "data": {
      "image/png": "[encoded data removed]",
      "text/plain": [
       "<matplotlib.figure.Figure at 0x11af9ff10>"
      ]
     },
     "metadata": {},
     "output_type": "display_data"
    }
   ],
   "source": [
    "plot_one_day_usage('17/10/2012')"
   ]
  },
  {
   "cell_type": "code",
   "execution_count": 246,
   "metadata": {
    "collapsed": false
   },
   "outputs": [
    {
     "data": {
      "image/png": "[encoded data removed]",
      "text/plain": [
       "<matplotlib.figure.Figure at 0x11afd8850>"
      ]
     },
     "metadata": {},
     "output_type": "display_data"
    }
   ],
   "source": [
    "plot_one_day_usage('18/10/2012')"
   ]
  },
  {
   "cell_type": "code",
   "execution_count": 247,
   "metadata": {
    "collapsed": false
   },
   "outputs": [
    {
     "data": {
      "image/png": "[encoded data removed]",
      "text/plain": [
       "<matplotlib.figure.Figure at 0x120ffd410>"
      ]
     },
     "metadata": {},
     "output_type": "display_data"
    }
   ],
   "source": [
    "plot_one_day_usage('19/10/2012')"
   ]
  },
  {
   "cell_type": "code",
   "execution_count": 248,
   "metadata": {
    "collapsed": false
   },
   "outputs": [
    {
     "data": {
      "image/png": "[encoded data removed]",
      "text/plain": [
       "<matplotlib.figure.Figure at 0x118323290>"
      ]
     },
     "metadata": {},
     "output_type": "display_data"
    }
   ],
   "source": [
    "plot_one_day_usage('20/10/2012')"
   ]
  },
  {
   "cell_type": "code",
   "execution_count": null,
   "metadata": {
    "collapsed": false
   },
   "outputs": [],
   "source": []
  }
 ],
 "metadata": {
  "anaconda-cloud": {},
  "kernelspec": {
   "display_name": "Python [Root]",
   "language": "python",
   "name": "Python [Root]"
  },
  "language_info": {
   "codemirror_mode": {
    "name": "ipython",
    "version": 2
   },
   "file_extension": ".py",
   "mimetype": "text/x-python",
   "name": "python",
   "nbconvert_exporter": "python",
   "pygments_lexer": "ipython2",
   "version": "2.7.12"
  }
 },
 "nbformat": 4,
 "nbformat_minor": 0
}
