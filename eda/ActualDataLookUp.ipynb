{
 "cells": [
  {
   "cell_type": "code",
   "execution_count": 1,
   "metadata": {
    "collapsed": true
   },
   "outputs": [],
   "source": [
    "import pandas as pd\n",
    "import numpy as np\n",
    "import matplotlib.pyplot as plt\n",
    "%matplotlib inline"
   ]
  },
  {
   "cell_type": "code",
   "execution_count": 2,
   "metadata": {
    "collapsed": true
   },
   "outputs": [],
   "source": [
    "df_v2_1 = pd.read_csv('''../data/Power-Networks-LCL-June2015(withAcornGps).csv_Pieces\n",
    "/Power-Networks-LCL-June2015(withAcornGps)v2_1.csv''')"
   ]
  },
  {
   "cell_type": "code",
   "execution_count": 3,
   "metadata": {
    "collapsed": false
   },
   "outputs": [
    {
     "name": "stdout",
     "output_type": "stream",
     "text": [
      "<class 'pandas.core.frame.DataFrame'>\n",
      "RangeIndex: 1000000 entries, 0 to 999999\n",
      "Data columns (total 6 columns):\n",
      "LCLid                      1000000 non-null object\n",
      "stdorToU                   1000000 non-null object\n",
      "DateTime                   1000000 non-null object\n",
      "KWH/hh (per half hour)     1000000 non-null object\n",
      "Acorn                      1000000 non-null object\n",
      "Acorn_grouped              1000000 non-null object\n",
      "dtypes: object(6)\n",
      "memory usage: 45.8+ MB\n"
     ]
    }
   ],
   "source": [
    "df_v2_1.info()"
   ]
  },
  {
   "cell_type": "code",
   "execution_count": 9,
   "metadata": {
    "collapsed": false
   },
   "outputs": [
    {
     "data": {
      "text/html": [
       "<div>\n",
       "<table border=\"1\" class=\"dataframe\">\n",
       "  <thead>\n",
       "    <tr style=\"text-align: right;\">\n",
       "      <th></th>\n",
       "      <th>LCLid</th>\n",
       "      <th>stdorToU</th>\n",
       "      <th>DateTime</th>\n",
       "      <th>KWH/hh (per half hour)</th>\n",
       "      <th>Acorn</th>\n",
       "      <th>Acorn_grouped</th>\n",
       "    </tr>\n",
       "  </thead>\n",
       "  <tbody>\n",
       "    <tr>\n",
       "      <th>0</th>\n",
       "      <td>MAC000002</td>\n",
       "      <td>Std</td>\n",
       "      <td>2012-10-12 00:30:00.0000000</td>\n",
       "      <td>0</td>\n",
       "      <td>ACORN-A</td>\n",
       "      <td>Affluent</td>\n",
       "    </tr>\n",
       "    <tr>\n",
       "      <th>1</th>\n",
       "      <td>MAC000002</td>\n",
       "      <td>Std</td>\n",
       "      <td>2012-10-12 01:00:00.0000000</td>\n",
       "      <td>0</td>\n",
       "      <td>ACORN-A</td>\n",
       "      <td>Affluent</td>\n",
       "    </tr>\n",
       "    <tr>\n",
       "      <th>2</th>\n",
       "      <td>MAC000002</td>\n",
       "      <td>Std</td>\n",
       "      <td>2012-10-12 01:30:00.0000000</td>\n",
       "      <td>0</td>\n",
       "      <td>ACORN-A</td>\n",
       "      <td>Affluent</td>\n",
       "    </tr>\n",
       "    <tr>\n",
       "      <th>3</th>\n",
       "      <td>MAC000002</td>\n",
       "      <td>Std</td>\n",
       "      <td>2012-10-12 02:00:00.0000000</td>\n",
       "      <td>0</td>\n",
       "      <td>ACORN-A</td>\n",
       "      <td>Affluent</td>\n",
       "    </tr>\n",
       "    <tr>\n",
       "      <th>4</th>\n",
       "      <td>MAC000002</td>\n",
       "      <td>Std</td>\n",
       "      <td>2012-10-12 02:30:00.0000000</td>\n",
       "      <td>0</td>\n",
       "      <td>ACORN-A</td>\n",
       "      <td>Affluent</td>\n",
       "    </tr>\n",
       "  </tbody>\n",
       "</table>\n",
       "</div>"
      ],
      "text/plain": [
       "       LCLid stdorToU                     DateTime KWH/hh (per half hour)   \\\n",
       "0  MAC000002      Std  2012-10-12 00:30:00.0000000                      0    \n",
       "1  MAC000002      Std  2012-10-12 01:00:00.0000000                      0    \n",
       "2  MAC000002      Std  2012-10-12 01:30:00.0000000                      0    \n",
       "3  MAC000002      Std  2012-10-12 02:00:00.0000000                      0    \n",
       "4  MAC000002      Std  2012-10-12 02:30:00.0000000                      0    \n",
       "\n",
       "     Acorn Acorn_grouped  \n",
       "0  ACORN-A      Affluent  \n",
       "1  ACORN-A      Affluent  \n",
       "2  ACORN-A      Affluent  \n",
       "3  ACORN-A      Affluent  \n",
       "4  ACORN-A      Affluent  "
      ]
     },
     "execution_count": 9,
     "metadata": {},
     "output_type": "execute_result"
    }
   ],
   "source": [
    "df_v2_1.head()"
   ]
  },
  {
   "cell_type": "code",
   "execution_count": 5,
   "metadata": {
    "collapsed": false
   },
   "outputs": [
    {
     "data": {
      "text/html": [
       "<div>\n",
       "<table border=\"1\" class=\"dataframe\">\n",
       "  <thead>\n",
       "    <tr style=\"text-align: right;\">\n",
       "      <th></th>\n",
       "      <th>LCLid</th>\n",
       "      <th>stdorToU</th>\n",
       "      <th>DateTime</th>\n",
       "      <th>KWH/hh (per half hour)</th>\n",
       "      <th>Acorn</th>\n",
       "      <th>Acorn_grouped</th>\n",
       "    </tr>\n",
       "  </thead>\n",
       "  <tbody>\n",
       "    <tr>\n",
       "      <th>999995</th>\n",
       "      <td>MAC000036</td>\n",
       "      <td>Std</td>\n",
       "      <td>2012-11-08 08:00:00.0000000</td>\n",
       "      <td>0.228</td>\n",
       "      <td>ACORN-E</td>\n",
       "      <td>Affluent</td>\n",
       "    </tr>\n",
       "    <tr>\n",
       "      <th>999996</th>\n",
       "      <td>MAC000036</td>\n",
       "      <td>Std</td>\n",
       "      <td>2012-11-08 08:30:00.0000000</td>\n",
       "      <td>0.042</td>\n",
       "      <td>ACORN-E</td>\n",
       "      <td>Affluent</td>\n",
       "    </tr>\n",
       "    <tr>\n",
       "      <th>999997</th>\n",
       "      <td>MAC000036</td>\n",
       "      <td>Std</td>\n",
       "      <td>2012-11-08 09:00:00.0000000</td>\n",
       "      <td>0.076</td>\n",
       "      <td>ACORN-E</td>\n",
       "      <td>Affluent</td>\n",
       "    </tr>\n",
       "    <tr>\n",
       "      <th>999998</th>\n",
       "      <td>MAC000036</td>\n",
       "      <td>Std</td>\n",
       "      <td>2012-11-08 09:30:00.0000000</td>\n",
       "      <td>0.07</td>\n",
       "      <td>ACORN-E</td>\n",
       "      <td>Affluent</td>\n",
       "    </tr>\n",
       "    <tr>\n",
       "      <th>999999</th>\n",
       "      <td>MAC000036</td>\n",
       "      <td>Std</td>\n",
       "      <td>2012-11-08 10:00:00.0000000</td>\n",
       "      <td>0.005</td>\n",
       "      <td>ACORN-E</td>\n",
       "      <td>Affluent</td>\n",
       "    </tr>\n",
       "  </tbody>\n",
       "</table>\n",
       "</div>"
      ],
      "text/plain": [
       "            LCLid stdorToU                     DateTime  \\\n",
       "999995  MAC000036      Std  2012-11-08 08:00:00.0000000   \n",
       "999996  MAC000036      Std  2012-11-08 08:30:00.0000000   \n",
       "999997  MAC000036      Std  2012-11-08 09:00:00.0000000   \n",
       "999998  MAC000036      Std  2012-11-08 09:30:00.0000000   \n",
       "999999  MAC000036      Std  2012-11-08 10:00:00.0000000   \n",
       "\n",
       "       KWH/hh (per half hour)     Acorn Acorn_grouped  \n",
       "999995                  0.228   ACORN-E      Affluent  \n",
       "999996                  0.042   ACORN-E      Affluent  \n",
       "999997                  0.076   ACORN-E      Affluent  \n",
       "999998                   0.07   ACORN-E      Affluent  \n",
       "999999                  0.005   ACORN-E      Affluent  "
      ]
     },
     "execution_count": 5,
     "metadata": {},
     "output_type": "execute_result"
    }
   ],
   "source": [
    "df_v2_1.tail()"
   ]
  },
  {
   "cell_type": "code",
   "execution_count": 10,
   "metadata": {
    "collapsed": false
   },
   "outputs": [
    {
     "data": {
      "text/plain": [
       "array(['MAC000002', 'MAC000003', 'MAC000004', 'MAC000006', 'MAC000007',\n",
       "       'MAC000008', 'MAC000009', 'MAC000010', 'MAC000011', 'MAC000012',\n",
       "       'MAC000013', 'MAC000016', 'MAC000018', 'MAC000019', 'MAC000020',\n",
       "       'MAC000021', 'MAC000022', 'MAC000023', 'MAC000024', 'MAC000025',\n",
       "       'MAC000026', 'MAC000027', 'MAC000028', 'MAC000029', 'MAC000030',\n",
       "       'MAC000032', 'MAC000033', 'MAC000034', 'MAC000035', 'MAC000036'], dtype=object)"
      ]
     },
     "execution_count": 10,
     "metadata": {},
     "output_type": "execute_result"
    }
   ],
   "source": [
    "df_v2_1['LCLid'].unique()"
   ]
  },
  {
   "cell_type": "code",
   "execution_count": 11,
   "metadata": {
    "collapsed": false
   },
   "outputs": [
    {
     "data": {
      "text/plain": [
       "30"
      ]
     },
     "execution_count": 11,
     "metadata": {},
     "output_type": "execute_result"
    }
   ],
   "source": [
    "len(df_v2_1['LCLid'].unique())"
   ]
  },
  {
   "cell_type": "code",
   "execution_count": 12,
   "metadata": {
    "collapsed": false
   },
   "outputs": [
    {
     "data": {
      "text/plain": [
       "array(['Std'], dtype=object)"
      ]
     },
     "execution_count": 12,
     "metadata": {},
     "output_type": "execute_result"
    }
   ],
   "source": [
    "df_v2_1['stdorToU'].unique()"
   ]
  },
  {
   "cell_type": "code",
   "execution_count": 13,
   "metadata": {
    "collapsed": false
   },
   "outputs": [
    {
     "data": {
      "text/plain": [
       "array(['ACORN-A', 'ACORN-P', 'ACORN-E', 'ACORN-Q', 'ACORN-H', 'ACORN-L',\n",
       "       'ACORN-N', 'ACORN-K', 'ACORN-J', 'ACORN-U', 'ACORN-D'], dtype=object)"
      ]
     },
     "execution_count": 13,
     "metadata": {},
     "output_type": "execute_result"
    }
   ],
   "source": [
    "df_v2_1['Acorn'].unique()"
   ]
  },
  {
   "cell_type": "code",
   "execution_count": 14,
   "metadata": {
    "collapsed": false
   },
   "outputs": [
    {
     "data": {
      "text/plain": [
       "11"
      ]
     },
     "execution_count": 14,
     "metadata": {},
     "output_type": "execute_result"
    }
   ],
   "source": [
    "len(df_v2_1['Acorn'].unique())"
   ]
  },
  {
   "cell_type": "code",
   "execution_count": 15,
   "metadata": {
    "collapsed": false
   },
   "outputs": [
    {
     "data": {
      "text/plain": [
       "array(['Affluent', 'Adversity', 'Comfortable', 'ACORN-U'], dtype=object)"
      ]
     },
     "execution_count": 15,
     "metadata": {},
     "output_type": "execute_result"
    }
   ],
   "source": [
    "df_v2_1['Acorn_grouped'].unique()"
   ]
  },
  {
   "cell_type": "code",
   "execution_count": 16,
   "metadata": {
    "collapsed": false
   },
   "outputs": [
    {
     "data": {
      "text/plain": [
       "4"
      ]
     },
     "execution_count": 16,
     "metadata": {},
     "output_type": "execute_result"
    }
   ],
   "source": [
    "len(df_v2_1['Acorn_grouped'].unique())"
   ]
  },
  {
   "cell_type": "code",
   "execution_count": 17,
   "metadata": {
    "collapsed": false
   },
   "outputs": [
    {
     "data": {
      "text/plain": [
       "Index([u'LCLid', u'stdorToU', u'DateTime', u'KWH/hh (per half hour) ',\n",
       "       u'Acorn', u'Acorn_grouped'],\n",
       "      dtype='object')"
      ]
     },
     "execution_count": 17,
     "metadata": {},
     "output_type": "execute_result"
    }
   ],
   "source": [
    "df_v2_1.columns"
   ]
  },
  {
   "cell_type": "code",
   "execution_count": 19,
   "metadata": {
    "collapsed": false
   },
   "outputs": [
    {
     "data": {
      "text/plain": [
       "str"
      ]
     },
     "execution_count": 19,
     "metadata": {},
     "output_type": "execute_result"
    }
   ],
   "source": [
    "type(df_v2_1['DateTime'][0])"
   ]
  },
  {
   "cell_type": "markdown",
   "metadata": {},
   "source": [
    "## Let us see what is content of the second file in sequence of files. What is the order\n",
    "## in which data were split into separate files?"
   ]
  },
  {
   "cell_type": "code",
   "execution_count": 23,
   "metadata": {
    "collapsed": false
   },
   "outputs": [],
   "source": [
    "df_v2_2 = pd.read_csv('''../data/Power-Networks-LCL-June2015(withAcornGps).csv_Pieces/Power-Networks-LCL-June2015(withAcornGps)v2_2.csv''')"
   ]
  },
  {
   "cell_type": "code",
   "execution_count": 24,
   "metadata": {
    "collapsed": false
   },
   "outputs": [
    {
     "name": "stdout",
     "output_type": "stream",
     "text": [
      "<class 'pandas.core.frame.DataFrame'>\n",
      "RangeIndex: 1000000 entries, 0 to 999999\n",
      "Data columns (total 6 columns):\n",
      "LCLid                      1000000 non-null object\n",
      "stdorToU                   1000000 non-null object\n",
      "DateTime                   1000000 non-null object\n",
      "KWH/hh (per half hour)     1000000 non-null object\n",
      "Acorn                      1000000 non-null object\n",
      "Acorn_grouped              1000000 non-null object\n",
      "dtypes: object(6)\n",
      "memory usage: 45.8+ MB\n"
     ]
    }
   ],
   "source": [
    "df_v2_2.info()"
   ]
  },
  {
   "cell_type": "code",
   "execution_count": 25,
   "metadata": {
    "collapsed": false
   },
   "outputs": [
    {
     "data": {
      "text/html": [
       "<div>\n",
       "<table border=\"1\" class=\"dataframe\">\n",
       "  <thead>\n",
       "    <tr style=\"text-align: right;\">\n",
       "      <th></th>\n",
       "      <th>LCLid</th>\n",
       "      <th>stdorToU</th>\n",
       "      <th>DateTime</th>\n",
       "      <th>KWH/hh (per half hour)</th>\n",
       "      <th>Acorn</th>\n",
       "      <th>Acorn_grouped</th>\n",
       "    </tr>\n",
       "  </thead>\n",
       "  <tbody>\n",
       "    <tr>\n",
       "      <th>0</th>\n",
       "      <td>MAC000036</td>\n",
       "      <td>Std</td>\n",
       "      <td>2012-11-08 10:30:00.0000000</td>\n",
       "      <td>0.003</td>\n",
       "      <td>ACORN-E</td>\n",
       "      <td>Affluent</td>\n",
       "    </tr>\n",
       "    <tr>\n",
       "      <th>1</th>\n",
       "      <td>MAC000036</td>\n",
       "      <td>Std</td>\n",
       "      <td>2012-11-08 11:00:00.0000000</td>\n",
       "      <td>0.032</td>\n",
       "      <td>ACORN-E</td>\n",
       "      <td>Affluent</td>\n",
       "    </tr>\n",
       "    <tr>\n",
       "      <th>2</th>\n",
       "      <td>MAC000036</td>\n",
       "      <td>Std</td>\n",
       "      <td>2012-11-08 11:30:00.0000000</td>\n",
       "      <td>0.035</td>\n",
       "      <td>ACORN-E</td>\n",
       "      <td>Affluent</td>\n",
       "    </tr>\n",
       "    <tr>\n",
       "      <th>3</th>\n",
       "      <td>MAC000036</td>\n",
       "      <td>Std</td>\n",
       "      <td>2012-11-08 12:00:00.0000000</td>\n",
       "      <td>0</td>\n",
       "      <td>ACORN-E</td>\n",
       "      <td>Affluent</td>\n",
       "    </tr>\n",
       "    <tr>\n",
       "      <th>4</th>\n",
       "      <td>MAC000036</td>\n",
       "      <td>Std</td>\n",
       "      <td>2012-11-08 12:30:00.0000000</td>\n",
       "      <td>0</td>\n",
       "      <td>ACORN-E</td>\n",
       "      <td>Affluent</td>\n",
       "    </tr>\n",
       "  </tbody>\n",
       "</table>\n",
       "</div>"
      ],
      "text/plain": [
       "       LCLid stdorToU                     DateTime KWH/hh (per half hour)   \\\n",
       "0  MAC000036      Std  2012-11-08 10:30:00.0000000                  0.003    \n",
       "1  MAC000036      Std  2012-11-08 11:00:00.0000000                  0.032    \n",
       "2  MAC000036      Std  2012-11-08 11:30:00.0000000                  0.035    \n",
       "3  MAC000036      Std  2012-11-08 12:00:00.0000000                      0    \n",
       "4  MAC000036      Std  2012-11-08 12:30:00.0000000                      0    \n",
       "\n",
       "     Acorn Acorn_grouped  \n",
       "0  ACORN-E      Affluent  \n",
       "1  ACORN-E      Affluent  \n",
       "2  ACORN-E      Affluent  \n",
       "3  ACORN-E      Affluent  \n",
       "4  ACORN-E      Affluent  "
      ]
     },
     "execution_count": 25,
     "metadata": {},
     "output_type": "execute_result"
    }
   ],
   "source": [
    "df_v2_2.head()"
   ]
  },
  {
   "cell_type": "code",
   "execution_count": 26,
   "metadata": {
    "collapsed": false
   },
   "outputs": [
    {
     "data": {
      "text/html": [
       "<div>\n",
       "<table border=\"1\" class=\"dataframe\">\n",
       "  <thead>\n",
       "    <tr style=\"text-align: right;\">\n",
       "      <th></th>\n",
       "      <th>LCLid</th>\n",
       "      <th>stdorToU</th>\n",
       "      <th>DateTime</th>\n",
       "      <th>KWH/hh (per half hour)</th>\n",
       "      <th>Acorn</th>\n",
       "      <th>Acorn_grouped</th>\n",
       "    </tr>\n",
       "  </thead>\n",
       "  <tbody>\n",
       "    <tr>\n",
       "      <th>999995</th>\n",
       "      <td>MAC000069</td>\n",
       "      <td>Std</td>\n",
       "      <td>2013-05-12 20:00:00.0000000</td>\n",
       "      <td>0.061</td>\n",
       "      <td>ACORN-G</td>\n",
       "      <td>Comfortable</td>\n",
       "    </tr>\n",
       "    <tr>\n",
       "      <th>999996</th>\n",
       "      <td>MAC000069</td>\n",
       "      <td>Std</td>\n",
       "      <td>2013-05-12 20:30:00.0000000</td>\n",
       "      <td>0.09</td>\n",
       "      <td>ACORN-G</td>\n",
       "      <td>Comfortable</td>\n",
       "    </tr>\n",
       "    <tr>\n",
       "      <th>999997</th>\n",
       "      <td>MAC000069</td>\n",
       "      <td>Std</td>\n",
       "      <td>2013-05-12 21:00:00.0000000</td>\n",
       "      <td>0.069</td>\n",
       "      <td>ACORN-G</td>\n",
       "      <td>Comfortable</td>\n",
       "    </tr>\n",
       "    <tr>\n",
       "      <th>999998</th>\n",
       "      <td>MAC000069</td>\n",
       "      <td>Std</td>\n",
       "      <td>2013-05-12 21:30:00.0000000</td>\n",
       "      <td>0.084</td>\n",
       "      <td>ACORN-G</td>\n",
       "      <td>Comfortable</td>\n",
       "    </tr>\n",
       "    <tr>\n",
       "      <th>999999</th>\n",
       "      <td>MAC000069</td>\n",
       "      <td>Std</td>\n",
       "      <td>2013-05-12 22:00:00.0000000</td>\n",
       "      <td>0.088</td>\n",
       "      <td>ACORN-G</td>\n",
       "      <td>Comfortable</td>\n",
       "    </tr>\n",
       "  </tbody>\n",
       "</table>\n",
       "</div>"
      ],
      "text/plain": [
       "            LCLid stdorToU                     DateTime  \\\n",
       "999995  MAC000069      Std  2013-05-12 20:00:00.0000000   \n",
       "999996  MAC000069      Std  2013-05-12 20:30:00.0000000   \n",
       "999997  MAC000069      Std  2013-05-12 21:00:00.0000000   \n",
       "999998  MAC000069      Std  2013-05-12 21:30:00.0000000   \n",
       "999999  MAC000069      Std  2013-05-12 22:00:00.0000000   \n",
       "\n",
       "       KWH/hh (per half hour)     Acorn Acorn_grouped  \n",
       "999995                  0.061   ACORN-G   Comfortable  \n",
       "999996                   0.09   ACORN-G   Comfortable  \n",
       "999997                  0.069   ACORN-G   Comfortable  \n",
       "999998                  0.084   ACORN-G   Comfortable  \n",
       "999999                  0.088   ACORN-G   Comfortable  "
      ]
     },
     "execution_count": 26,
     "metadata": {},
     "output_type": "execute_result"
    }
   ],
   "source": [
    "df_v2_2.tail()"
   ]
  },
  {
   "cell_type": "code",
   "execution_count": 27,
   "metadata": {
    "collapsed": false
   },
   "outputs": [
    {
     "data": {
      "text/plain": [
       "array(['MAC000036', 'MAC000037', 'MAC000038', 'MAC000039', 'MAC000040',\n",
       "       'MAC000041', 'MAC000042', 'MAC000043', 'MAC000045', 'MAC000047',\n",
       "       'MAC000049', 'MAC000050', 'MAC000053', 'MAC000054', 'MAC000055',\n",
       "       'MAC000056', 'MAC000057', 'MAC000058', 'MAC000059', 'MAC000060',\n",
       "       'MAC000061', 'MAC000062', 'MAC000063', 'MAC000066', 'MAC000067',\n",
       "       'MAC000068', 'MAC000069'], dtype=object)"
      ]
     },
     "execution_count": 27,
     "metadata": {},
     "output_type": "execute_result"
    }
   ],
   "source": [
    "df_v2_2['LCLid'].unique()"
   ]
  },
  {
   "cell_type": "code",
   "execution_count": 28,
   "metadata": {
    "collapsed": false
   },
   "outputs": [
    {
     "data": {
      "text/plain": [
       "27"
      ]
     },
     "execution_count": 28,
     "metadata": {},
     "output_type": "execute_result"
    }
   ],
   "source": [
    "len(df_v2_2['LCLid'].unique())"
   ]
  },
  {
   "cell_type": "code",
   "execution_count": 29,
   "metadata": {
    "collapsed": false
   },
   "outputs": [
    {
     "data": {
      "text/plain": [
       "array(['Std'], dtype=object)"
      ]
     },
     "execution_count": 29,
     "metadata": {},
     "output_type": "execute_result"
    }
   ],
   "source": [
    "df_v2_2['stdorToU'].unique()"
   ]
  },
  {
   "cell_type": "code",
   "execution_count": 30,
   "metadata": {
    "collapsed": false
   },
   "outputs": [
    {
     "data": {
      "text/plain": [
       "array(['ACORN-E', 'ACORN-L', 'ACORN-F', 'ACORN-A', 'ACORN-Q', 'ACORN-H',\n",
       "       'ACORN-D', 'ACORN-K', 'ACORN-N', 'ACORN-G'], dtype=object)"
      ]
     },
     "execution_count": 30,
     "metadata": {},
     "output_type": "execute_result"
    }
   ],
   "source": [
    "df_v2_2['Acorn'].unique()"
   ]
  },
  {
   "cell_type": "code",
   "execution_count": 31,
   "metadata": {
    "collapsed": false
   },
   "outputs": [
    {
     "data": {
      "text/plain": [
       "10"
      ]
     },
     "execution_count": 31,
     "metadata": {},
     "output_type": "execute_result"
    }
   ],
   "source": [
    "len(df_v2_2['Acorn'].unique())"
   ]
  },
  {
   "cell_type": "code",
   "execution_count": 32,
   "metadata": {
    "collapsed": false
   },
   "outputs": [
    {
     "data": {
      "text/plain": [
       "array(['Affluent', 'Adversity', 'Comfortable'], dtype=object)"
      ]
     },
     "execution_count": 32,
     "metadata": {},
     "output_type": "execute_result"
    }
   ],
   "source": [
    "df_v2_2['Acorn_grouped'].unique()"
   ]
  },
  {
   "cell_type": "code",
   "execution_count": 33,
   "metadata": {
    "collapsed": false
   },
   "outputs": [
    {
     "data": {
      "text/plain": [
       "3"
      ]
     },
     "execution_count": 33,
     "metadata": {},
     "output_type": "execute_result"
    }
   ],
   "source": [
    "len(df_v2_2['Acorn_grouped'].unique())"
   ]
  },
  {
   "cell_type": "markdown",
   "metadata": {},
   "source": [
    "## Let's look at the last file"
   ]
  },
  {
   "cell_type": "code",
   "execution_count": 34,
   "metadata": {
    "collapsed": true
   },
   "outputs": [],
   "source": [
    "df_v2_168 = pd.read_csv('''../data/Power-Networks-LCL-June2015(withAcornGps).csv_Pieces/Power-Networks-LCL-June2015(withAcornGps)v2_168.csv''')"
   ]
  },
  {
   "cell_type": "code",
   "execution_count": 35,
   "metadata": {
    "collapsed": false
   },
   "outputs": [
    {
     "data": {
      "text/html": [
       "<div>\n",
       "<table border=\"1\" class=\"dataframe\">\n",
       "  <thead>\n",
       "    <tr style=\"text-align: right;\">\n",
       "      <th></th>\n",
       "      <th>LCLid</th>\n",
       "      <th>stdorToU</th>\n",
       "      <th>DateTime</th>\n",
       "      <th>KWH/hh (per half hour)</th>\n",
       "      <th>Acorn</th>\n",
       "      <th>Acorn_grouped</th>\n",
       "    </tr>\n",
       "  </thead>\n",
       "  <tbody>\n",
       "    <tr>\n",
       "      <th>0</th>\n",
       "      <td>MAC005470</td>\n",
       "      <td>ToU</td>\n",
       "      <td>2012-07-04 21:00:00.0000000</td>\n",
       "      <td>0.18</td>\n",
       "      <td>ACORN-E</td>\n",
       "      <td>Affluent</td>\n",
       "    </tr>\n",
       "    <tr>\n",
       "      <th>1</th>\n",
       "      <td>MAC005470</td>\n",
       "      <td>ToU</td>\n",
       "      <td>2012-07-04 21:30:00.0000000</td>\n",
       "      <td>0.104</td>\n",
       "      <td>ACORN-E</td>\n",
       "      <td>Affluent</td>\n",
       "    </tr>\n",
       "    <tr>\n",
       "      <th>2</th>\n",
       "      <td>MAC005470</td>\n",
       "      <td>ToU</td>\n",
       "      <td>2012-07-04 22:00:00.0000000</td>\n",
       "      <td>0.118</td>\n",
       "      <td>ACORN-E</td>\n",
       "      <td>Affluent</td>\n",
       "    </tr>\n",
       "    <tr>\n",
       "      <th>3</th>\n",
       "      <td>MAC005470</td>\n",
       "      <td>ToU</td>\n",
       "      <td>2012-07-04 22:30:00.0000000</td>\n",
       "      <td>0.154</td>\n",
       "      <td>ACORN-E</td>\n",
       "      <td>Affluent</td>\n",
       "    </tr>\n",
       "    <tr>\n",
       "      <th>4</th>\n",
       "      <td>MAC005470</td>\n",
       "      <td>ToU</td>\n",
       "      <td>2012-07-04 23:00:00.0000000</td>\n",
       "      <td>0.026</td>\n",
       "      <td>ACORN-E</td>\n",
       "      <td>Affluent</td>\n",
       "    </tr>\n",
       "  </tbody>\n",
       "</table>\n",
       "</div>"
      ],
      "text/plain": [
       "       LCLid stdorToU                     DateTime KWH/hh (per half hour)   \\\n",
       "0  MAC005470      ToU  2012-07-04 21:00:00.0000000                   0.18    \n",
       "1  MAC005470      ToU  2012-07-04 21:30:00.0000000                  0.104    \n",
       "2  MAC005470      ToU  2012-07-04 22:00:00.0000000                  0.118    \n",
       "3  MAC005470      ToU  2012-07-04 22:30:00.0000000                  0.154    \n",
       "4  MAC005470      ToU  2012-07-04 23:00:00.0000000                  0.026    \n",
       "\n",
       "     Acorn Acorn_grouped  \n",
       "0  ACORN-E      Affluent  \n",
       "1  ACORN-E      Affluent  \n",
       "2  ACORN-E      Affluent  \n",
       "3  ACORN-E      Affluent  \n",
       "4  ACORN-E      Affluent  "
      ]
     },
     "execution_count": 35,
     "metadata": {},
     "output_type": "execute_result"
    }
   ],
   "source": [
    "df_v2_168.head()"
   ]
  },
  {
   "cell_type": "code",
   "execution_count": 36,
   "metadata": {
    "collapsed": false
   },
   "outputs": [
    {
     "data": {
      "text/html": [
       "<div>\n",
       "<table border=\"1\" class=\"dataframe\">\n",
       "  <thead>\n",
       "    <tr style=\"text-align: right;\">\n",
       "      <th></th>\n",
       "      <th>LCLid</th>\n",
       "      <th>stdorToU</th>\n",
       "      <th>DateTime</th>\n",
       "      <th>KWH/hh (per half hour)</th>\n",
       "      <th>Acorn</th>\n",
       "      <th>Acorn_grouped</th>\n",
       "    </tr>\n",
       "  </thead>\n",
       "  <tbody>\n",
       "    <tr>\n",
       "      <th>932469</th>\n",
       "      <td>MAC005565</td>\n",
       "      <td>ToU</td>\n",
       "      <td>2012-06-21 05:30:00.0000000</td>\n",
       "      <td>1.022</td>\n",
       "      <td>ACORN-C</td>\n",
       "      <td>Affluent</td>\n",
       "    </tr>\n",
       "    <tr>\n",
       "      <th>932470</th>\n",
       "      <td>MAC005565</td>\n",
       "      <td>ToU</td>\n",
       "      <td>2012-06-21 06:00:00.0000000</td>\n",
       "      <td>0.188</td>\n",
       "      <td>ACORN-C</td>\n",
       "      <td>Affluent</td>\n",
       "    </tr>\n",
       "    <tr>\n",
       "      <th>932471</th>\n",
       "      <td>MAC005565</td>\n",
       "      <td>ToU</td>\n",
       "      <td>2012-06-21 06:30:00.0000000</td>\n",
       "      <td>0.073</td>\n",
       "      <td>ACORN-C</td>\n",
       "      <td>Affluent</td>\n",
       "    </tr>\n",
       "    <tr>\n",
       "      <th>932472</th>\n",
       "      <td>MAC005565</td>\n",
       "      <td>ToU</td>\n",
       "      <td>2012-06-21 07:00:00.0000000</td>\n",
       "      <td>0.025</td>\n",
       "      <td>ACORN-C</td>\n",
       "      <td>Affluent</td>\n",
       "    </tr>\n",
       "    <tr>\n",
       "      <th>932473</th>\n",
       "      <td>MAC005565</td>\n",
       "      <td>ToU</td>\n",
       "      <td>2012-12-19 12:32:41.0000000</td>\n",
       "      <td>Null</td>\n",
       "      <td>ACORN-C</td>\n",
       "      <td>Affluent</td>\n",
       "    </tr>\n",
       "  </tbody>\n",
       "</table>\n",
       "</div>"
      ],
      "text/plain": [
       "            LCLid stdorToU                     DateTime  \\\n",
       "932469  MAC005565      ToU  2012-06-21 05:30:00.0000000   \n",
       "932470  MAC005565      ToU  2012-06-21 06:00:00.0000000   \n",
       "932471  MAC005565      ToU  2012-06-21 06:30:00.0000000   \n",
       "932472  MAC005565      ToU  2012-06-21 07:00:00.0000000   \n",
       "932473  MAC005565      ToU  2012-12-19 12:32:41.0000000   \n",
       "\n",
       "       KWH/hh (per half hour)     Acorn Acorn_grouped  \n",
       "932469                  1.022   ACORN-C      Affluent  \n",
       "932470                  0.188   ACORN-C      Affluent  \n",
       "932471                  0.073   ACORN-C      Affluent  \n",
       "932472                  0.025   ACORN-C      Affluent  \n",
       "932473                    Null  ACORN-C      Affluent  "
      ]
     },
     "execution_count": 36,
     "metadata": {},
     "output_type": "execute_result"
    }
   ],
   "source": [
    "df_v2_168.tail()"
   ]
  },
  {
   "cell_type": "code",
   "execution_count": 37,
   "metadata": {
    "collapsed": false
   },
   "outputs": [
    {
     "name": "stdout",
     "output_type": "stream",
     "text": [
      "<class 'pandas.core.frame.DataFrame'>\n",
      "RangeIndex: 932474 entries, 0 to 932473\n",
      "Data columns (total 6 columns):\n",
      "LCLid                      932474 non-null object\n",
      "stdorToU                   932474 non-null object\n",
      "DateTime                   932474 non-null object\n",
      "KWH/hh (per half hour)     932474 non-null object\n",
      "Acorn                      932474 non-null object\n",
      "Acorn_grouped              932474 non-null object\n",
      "dtypes: object(6)\n",
      "memory usage: 42.7+ MB\n"
     ]
    }
   ],
   "source": [
    "df_v2_168.info()"
   ]
  },
  {
   "cell_type": "markdown",
   "metadata": {},
   "source": [
    "### The data split into two main subsets with respect to values in 'stdorToU' column such that data with 'stdorToU' = ToU follow rows of data with 'stdorToU' = Std. The order of rows within each subcategory arranged with respect to the values in 'DateTime' column in accending order."
   ]
  },
  {
   "cell_type": "markdown",
   "metadata": {},
   "source": [
    "# Exploration of data for a single houshold"
   ]
  },
  {
   "cell_type": "code",
   "execution_count": 69,
   "metadata": {
    "collapsed": true
   },
   "outputs": [],
   "source": [
    "df_v2_1_MAC000002 = df_v2_1[df_v2_1['LCLid']=='MAC000002']"
   ]
  },
  {
   "cell_type": "code",
   "execution_count": 70,
   "metadata": {
    "collapsed": false
   },
   "outputs": [
    {
     "name": "stdout",
     "output_type": "stream",
     "text": [
      "<class 'pandas.core.frame.DataFrame'>\n",
      "Int64Index: 24158 entries, 0 to 24157\n",
      "Data columns (total 6 columns):\n",
      "LCLid                      24158 non-null object\n",
      "stdorToU                   24158 non-null object\n",
      "DateTime                   24158 non-null object\n",
      "KWH/hh (per half hour)     24158 non-null object\n",
      "Acorn                      24158 non-null object\n",
      "Acorn_grouped              24158 non-null object\n",
      "dtypes: object(6)\n",
      "memory usage: 1.3+ MB\n"
     ]
    }
   ],
   "source": [
    "df_v2_1_MAC000002.info()"
   ]
  },
  {
   "cell_type": "code",
   "execution_count": 71,
   "metadata": {
    "collapsed": false
   },
   "outputs": [
    {
     "data": {
      "text/html": [
       "<div>\n",
       "<table border=\"1\" class=\"dataframe\">\n",
       "  <thead>\n",
       "    <tr style=\"text-align: right;\">\n",
       "      <th></th>\n",
       "      <th>LCLid</th>\n",
       "      <th>stdorToU</th>\n",
       "      <th>DateTime</th>\n",
       "      <th>KWH/hh (per half hour)</th>\n",
       "      <th>Acorn</th>\n",
       "      <th>Acorn_grouped</th>\n",
       "    </tr>\n",
       "  </thead>\n",
       "  <tbody>\n",
       "    <tr>\n",
       "      <th>0</th>\n",
       "      <td>MAC000002</td>\n",
       "      <td>Std</td>\n",
       "      <td>2012-10-12 00:30:00.0000000</td>\n",
       "      <td>0</td>\n",
       "      <td>ACORN-A</td>\n",
       "      <td>Affluent</td>\n",
       "    </tr>\n",
       "    <tr>\n",
       "      <th>1</th>\n",
       "      <td>MAC000002</td>\n",
       "      <td>Std</td>\n",
       "      <td>2012-10-12 01:00:00.0000000</td>\n",
       "      <td>0</td>\n",
       "      <td>ACORN-A</td>\n",
       "      <td>Affluent</td>\n",
       "    </tr>\n",
       "    <tr>\n",
       "      <th>2</th>\n",
       "      <td>MAC000002</td>\n",
       "      <td>Std</td>\n",
       "      <td>2012-10-12 01:30:00.0000000</td>\n",
       "      <td>0</td>\n",
       "      <td>ACORN-A</td>\n",
       "      <td>Affluent</td>\n",
       "    </tr>\n",
       "    <tr>\n",
       "      <th>3</th>\n",
       "      <td>MAC000002</td>\n",
       "      <td>Std</td>\n",
       "      <td>2012-10-12 02:00:00.0000000</td>\n",
       "      <td>0</td>\n",
       "      <td>ACORN-A</td>\n",
       "      <td>Affluent</td>\n",
       "    </tr>\n",
       "    <tr>\n",
       "      <th>4</th>\n",
       "      <td>MAC000002</td>\n",
       "      <td>Std</td>\n",
       "      <td>2012-10-12 02:30:00.0000000</td>\n",
       "      <td>0</td>\n",
       "      <td>ACORN-A</td>\n",
       "      <td>Affluent</td>\n",
       "    </tr>\n",
       "  </tbody>\n",
       "</table>\n",
       "</div>"
      ],
      "text/plain": [
       "       LCLid stdorToU                     DateTime KWH/hh (per half hour)   \\\n",
       "0  MAC000002      Std  2012-10-12 00:30:00.0000000                      0    \n",
       "1  MAC000002      Std  2012-10-12 01:00:00.0000000                      0    \n",
       "2  MAC000002      Std  2012-10-12 01:30:00.0000000                      0    \n",
       "3  MAC000002      Std  2012-10-12 02:00:00.0000000                      0    \n",
       "4  MAC000002      Std  2012-10-12 02:30:00.0000000                      0    \n",
       "\n",
       "     Acorn Acorn_grouped  \n",
       "0  ACORN-A      Affluent  \n",
       "1  ACORN-A      Affluent  \n",
       "2  ACORN-A      Affluent  \n",
       "3  ACORN-A      Affluent  \n",
       "4  ACORN-A      Affluent  "
      ]
     },
     "execution_count": 71,
     "metadata": {},
     "output_type": "execute_result"
    }
   ],
   "source": [
    "df_v2_1_MAC000002.head()"
   ]
  },
  {
   "cell_type": "code",
   "execution_count": 72,
   "metadata": {
    "collapsed": false
   },
   "outputs": [
    {
     "data": {
      "text/html": [
       "<div>\n",
       "<table border=\"1\" class=\"dataframe\">\n",
       "  <thead>\n",
       "    <tr style=\"text-align: right;\">\n",
       "      <th></th>\n",
       "      <th>LCLid</th>\n",
       "      <th>stdorToU</th>\n",
       "      <th>DateTime</th>\n",
       "      <th>KWH/hh (per half hour)</th>\n",
       "      <th>Acorn</th>\n",
       "      <th>Acorn_grouped</th>\n",
       "    </tr>\n",
       "  </thead>\n",
       "  <tbody>\n",
       "    <tr>\n",
       "      <th>24153</th>\n",
       "      <td>MAC000002</td>\n",
       "      <td>Std</td>\n",
       "      <td>2014-02-27 22:30:00.0000000</td>\n",
       "      <td>1.35</td>\n",
       "      <td>ACORN-A</td>\n",
       "      <td>Affluent</td>\n",
       "    </tr>\n",
       "    <tr>\n",
       "      <th>24154</th>\n",
       "      <td>MAC000002</td>\n",
       "      <td>Std</td>\n",
       "      <td>2014-02-27 23:00:00.0000000</td>\n",
       "      <td>1.247</td>\n",
       "      <td>ACORN-A</td>\n",
       "      <td>Affluent</td>\n",
       "    </tr>\n",
       "    <tr>\n",
       "      <th>24155</th>\n",
       "      <td>MAC000002</td>\n",
       "      <td>Std</td>\n",
       "      <td>2014-02-27 23:30:00.0000000</td>\n",
       "      <td>1.2180001</td>\n",
       "      <td>ACORN-A</td>\n",
       "      <td>Affluent</td>\n",
       "    </tr>\n",
       "    <tr>\n",
       "      <th>24156</th>\n",
       "      <td>MAC000002</td>\n",
       "      <td>Std</td>\n",
       "      <td>2014-02-28 00:00:00.0000000</td>\n",
       "      <td>1.387</td>\n",
       "      <td>ACORN-A</td>\n",
       "      <td>Affluent</td>\n",
       "    </tr>\n",
       "    <tr>\n",
       "      <th>24157</th>\n",
       "      <td>MAC000002</td>\n",
       "      <td>Std</td>\n",
       "      <td>2014-02-28 00:00:00.0000000</td>\n",
       "      <td>1.387</td>\n",
       "      <td>ACORN-A</td>\n",
       "      <td>Affluent</td>\n",
       "    </tr>\n",
       "  </tbody>\n",
       "</table>\n",
       "</div>"
      ],
      "text/plain": [
       "           LCLid stdorToU                     DateTime  \\\n",
       "24153  MAC000002      Std  2014-02-27 22:30:00.0000000   \n",
       "24154  MAC000002      Std  2014-02-27 23:00:00.0000000   \n",
       "24155  MAC000002      Std  2014-02-27 23:30:00.0000000   \n",
       "24156  MAC000002      Std  2014-02-28 00:00:00.0000000   \n",
       "24157  MAC000002      Std  2014-02-28 00:00:00.0000000   \n",
       "\n",
       "      KWH/hh (per half hour)     Acorn Acorn_grouped  \n",
       "24153                   1.35   ACORN-A      Affluent  \n",
       "24154                  1.247   ACORN-A      Affluent  \n",
       "24155              1.2180001   ACORN-A      Affluent  \n",
       "24156                  1.387   ACORN-A      Affluent  \n",
       "24157                  1.387   ACORN-A      Affluent  "
      ]
     },
     "execution_count": 72,
     "metadata": {},
     "output_type": "execute_result"
    }
   ],
   "source": [
    "df_v2_1_MAC000002.tail()"
   ]
  },
  {
   "cell_type": "markdown",
   "metadata": {},
   "source": [
    "## Correction to data ordering!! The data split into subsets with respect to each household\n",
    "## and within each household data arranged with respect to DataTime in accending order!!"
   ]
  },
  {
   "cell_type": "markdown",
   "metadata": {},
   "source": [
    "#"
   ]
  },
  {
   "cell_type": "markdown",
   "metadata": {},
   "source": [
    "## Let's split DateTime to two separate columns: date and time"
   ]
  },
  {
   "cell_type": "code",
   "execution_count": 73,
   "metadata": {
    "collapsed": false
   },
   "outputs": [
    {
     "name": "stderr",
     "output_type": "stream",
     "text": [
      "/Users/anatoly/anaconda/lib/python2.7/site-packages/ipykernel/__main__.py:3: SettingWithCopyWarning: \n",
      "A value is trying to be set on a copy of a slice from a DataFrame.\n",
      "Try using .loc[row_indexer,col_indexer] = value instead\n",
      "\n",
      "See the caveats in the documentation: http://pandas.pydata.org/pandas-docs/stable/indexing.html#indexing-view-versus-copy\n",
      "  app.launch_new_instance()\n",
      "/Users/anatoly/anaconda/lib/python2.7/site-packages/ipykernel/__main__.py:4: SettingWithCopyWarning: \n",
      "A value is trying to be set on a copy of a slice from a DataFrame.\n",
      "Try using .loc[row_indexer,col_indexer] = value instead\n",
      "\n",
      "See the caveats in the documentation: http://pandas.pydata.org/pandas-docs/stable/indexing.html#indexing-view-versus-copy\n"
     ]
    }
   ],
   "source": [
    "# splittion 'DateTime' into 'date' and 'time'\n",
    "s = pd.to_datetime(df_v2_1_MAC000002.loc[:,('DateTime')])\n",
    "df_v2_1_MAC000002['date'] = [d.date() for i, d in enumerate(s)]\n",
    "df_v2_1_MAC000002['time'] = [d.time() for i, d in enumerate(s)]"
   ]
  },
  {
   "cell_type": "code",
   "execution_count": 74,
   "metadata": {
    "collapsed": false
   },
   "outputs": [
    {
     "data": {
      "text/html": [
       "<div>\n",
       "<table border=\"1\" class=\"dataframe\">\n",
       "  <thead>\n",
       "    <tr style=\"text-align: right;\">\n",
       "      <th></th>\n",
       "      <th>LCLid</th>\n",
       "      <th>stdorToU</th>\n",
       "      <th>DateTime</th>\n",
       "      <th>KWH/hh (per half hour)</th>\n",
       "      <th>Acorn</th>\n",
       "      <th>Acorn_grouped</th>\n",
       "      <th>date</th>\n",
       "      <th>time</th>\n",
       "    </tr>\n",
       "  </thead>\n",
       "  <tbody>\n",
       "    <tr>\n",
       "      <th>0</th>\n",
       "      <td>MAC000002</td>\n",
       "      <td>Std</td>\n",
       "      <td>2012-10-12 00:30:00.0000000</td>\n",
       "      <td>0</td>\n",
       "      <td>ACORN-A</td>\n",
       "      <td>Affluent</td>\n",
       "      <td>2012-10-12</td>\n",
       "      <td>00:30:00</td>\n",
       "    </tr>\n",
       "    <tr>\n",
       "      <th>1</th>\n",
       "      <td>MAC000002</td>\n",
       "      <td>Std</td>\n",
       "      <td>2012-10-12 01:00:00.0000000</td>\n",
       "      <td>0</td>\n",
       "      <td>ACORN-A</td>\n",
       "      <td>Affluent</td>\n",
       "      <td>2012-10-12</td>\n",
       "      <td>01:00:00</td>\n",
       "    </tr>\n",
       "    <tr>\n",
       "      <th>2</th>\n",
       "      <td>MAC000002</td>\n",
       "      <td>Std</td>\n",
       "      <td>2012-10-12 01:30:00.0000000</td>\n",
       "      <td>0</td>\n",
       "      <td>ACORN-A</td>\n",
       "      <td>Affluent</td>\n",
       "      <td>2012-10-12</td>\n",
       "      <td>01:30:00</td>\n",
       "    </tr>\n",
       "    <tr>\n",
       "      <th>3</th>\n",
       "      <td>MAC000002</td>\n",
       "      <td>Std</td>\n",
       "      <td>2012-10-12 02:00:00.0000000</td>\n",
       "      <td>0</td>\n",
       "      <td>ACORN-A</td>\n",
       "      <td>Affluent</td>\n",
       "      <td>2012-10-12</td>\n",
       "      <td>02:00:00</td>\n",
       "    </tr>\n",
       "    <tr>\n",
       "      <th>4</th>\n",
       "      <td>MAC000002</td>\n",
       "      <td>Std</td>\n",
       "      <td>2012-10-12 02:30:00.0000000</td>\n",
       "      <td>0</td>\n",
       "      <td>ACORN-A</td>\n",
       "      <td>Affluent</td>\n",
       "      <td>2012-10-12</td>\n",
       "      <td>02:30:00</td>\n",
       "    </tr>\n",
       "  </tbody>\n",
       "</table>\n",
       "</div>"
      ],
      "text/plain": [
       "       LCLid stdorToU                     DateTime KWH/hh (per half hour)   \\\n",
       "0  MAC000002      Std  2012-10-12 00:30:00.0000000                      0    \n",
       "1  MAC000002      Std  2012-10-12 01:00:00.0000000                      0    \n",
       "2  MAC000002      Std  2012-10-12 01:30:00.0000000                      0    \n",
       "3  MAC000002      Std  2012-10-12 02:00:00.0000000                      0    \n",
       "4  MAC000002      Std  2012-10-12 02:30:00.0000000                      0    \n",
       "\n",
       "     Acorn Acorn_grouped        date      time  \n",
       "0  ACORN-A      Affluent  2012-10-12  00:30:00  \n",
       "1  ACORN-A      Affluent  2012-10-12  01:00:00  \n",
       "2  ACORN-A      Affluent  2012-10-12  01:30:00  \n",
       "3  ACORN-A      Affluent  2012-10-12  02:00:00  \n",
       "4  ACORN-A      Affluent  2012-10-12  02:30:00  "
      ]
     },
     "execution_count": 74,
     "metadata": {},
     "output_type": "execute_result"
    }
   ],
   "source": [
    "df_v2_1_MAC000002.head()"
   ]
  },
  {
   "cell_type": "code",
   "execution_count": 75,
   "metadata": {
    "collapsed": false
   },
   "outputs": [
    {
     "name": "stderr",
     "output_type": "stream",
     "text": [
      "/Users/anatoly/anaconda/lib/python2.7/site-packages/ipykernel/__main__.py:3: SettingWithCopyWarning: \n",
      "A value is trying to be set on a copy of a slice from a DataFrame.\n",
      "Try using .loc[row_indexer,col_indexer] = value instead\n",
      "\n",
      "See the caveats in the documentation: http://pandas.pydata.org/pandas-docs/stable/indexing.html#indexing-view-versus-copy\n",
      "  app.launch_new_instance()\n"
     ]
    }
   ],
   "source": [
    "# converting 'KWH/hh (per half hour)' into numerical type\n",
    "pd.to_numeric(df_v2_1_MAC000002['KWH/hh (per half hour) '], errors='ignore')\n",
    "df_v2_1_MAC000002['KWH/hh (per half hour)'] = pd.to_numeric(df_v2_1_MAC000002['KWH/hh (per half hour) '], errors='coerce')"
   ]
  },
  {
   "cell_type": "code",
   "execution_count": 78,
   "metadata": {
    "collapsed": false
   },
   "outputs": [
    {
     "data": {
      "text/plain": [
       "numpy.float64"
      ]
     },
     "execution_count": 78,
     "metadata": {},
     "output_type": "execute_result"
    }
   ],
   "source": [
    "type(df_v2_1_MAC000002['KWH/hh (per half hour)'][0])"
   ]
  },
  {
   "cell_type": "code",
   "execution_count": 80,
   "metadata": {
    "collapsed": false
   },
   "outputs": [
    {
     "name": "stdout",
     "output_type": "stream",
     "text": [
      "number of days household MAC000002 has data for: 505\n"
     ]
    }
   ],
   "source": [
    "print 'number of days household MAC000002 has data for:', len(df_v2_1_MAC000002['date'].unique())"
   ]
  },
  {
   "cell_type": "code",
   "execution_count": 106,
   "metadata": {
    "collapsed": true
   },
   "outputs": [],
   "source": [
    "def plot_one_day_usage(df, date):\n",
    "    # INPUT: DataFrame, str type in the format: (yyyy-mm-dd), for example -> '2012-10-12'\n",
    "    date = pd.to_datetime(date).date()\n",
    "    x = df[df['date'] == date]['time']\n",
    "    y = df[df['date'] == date]['KWH/hh (per half hour)']\n",
    "    #\n",
    "    plt.figure(figsize=(7,5))\n",
    "    plt.plot(x, y)\n",
    "    plt.xlabel('time')\n",
    "    plt.ylabel('KWH/hh (per half hour)')\n",
    "    plt.title('Date: {}'.format(date))"
   ]
  },
  {
   "cell_type": "code",
   "execution_count": 107,
   "metadata": {
    "collapsed": false
   },
   "outputs": [
    {
     "data": {
      "image/png": "[encoded data removed]",
      "text/plain": [
       "<matplotlib.figure.Figure at 0x11b3ebf90>"
      ]
     },
     "metadata": {},
     "output_type": "display_data"
    }
   ],
   "source": [
    "plot_one_day_usage(df_v2_1_MAC000002, '2014-02-27')"
   ]
  },
  {
   "cell_type": "code",
   "execution_count": 109,
   "metadata": {
    "collapsed": false
   },
   "outputs": [
    {
     "data": {
      "image/png": "[encoded data removed]",
      "text/plain": [
       "<matplotlib.figure.Figure at 0x11cdb0590>"
      ]
     },
     "metadata": {},
     "output_type": "display_data"
    }
   ],
   "source": [
    "plot_one_day_usage(df_v2_1_MAC000002, '2014-02-25')"
   ]
  },
  {
   "cell_type": "code",
   "execution_count": 110,
   "metadata": {
    "collapsed": true
   },
   "outputs": [],
   "source": [
    "df_v2_1_MAC000003 = df_v2_1[df_v2_1['LCLid']=='MAC000003']"
   ]
  },
  {
   "cell_type": "code",
   "execution_count": 111,
   "metadata": {
    "collapsed": true
   },
   "outputs": [],
   "source": [
    "def datetime_to_date_time(df):\n",
    "    # splittion 'DateTime' into 'date' and 'time'\n",
    "    s = pd.to_datetime(df.loc[:,('DateTime')])\n",
    "    df['date'] = [d.date() for i, d in enumerate(s)]\n",
    "    df['time'] = [d.time() for i, d in enumerate(s)]"
   ]
  },
  {
   "cell_type": "code",
   "execution_count": 112,
   "metadata": {
    "collapsed": false
   },
   "outputs": [
    {
     "name": "stderr",
     "output_type": "stream",
     "text": [
      "/Users/anatoly/anaconda/lib/python2.7/site-packages/ipykernel/__main__.py:4: SettingWithCopyWarning: \n",
      "A value is trying to be set on a copy of a slice from a DataFrame.\n",
      "Try using .loc[row_indexer,col_indexer] = value instead\n",
      "\n",
      "See the caveats in the documentation: http://pandas.pydata.org/pandas-docs/stable/indexing.html#indexing-view-versus-copy\n",
      "/Users/anatoly/anaconda/lib/python2.7/site-packages/ipykernel/__main__.py:5: SettingWithCopyWarning: \n",
      "A value is trying to be set on a copy of a slice from a DataFrame.\n",
      "Try using .loc[row_indexer,col_indexer] = value instead\n",
      "\n",
      "See the caveats in the documentation: http://pandas.pydata.org/pandas-docs/stable/indexing.html#indexing-view-versus-copy\n"
     ]
    }
   ],
   "source": [
    "datetime_to_date_time(df_v2_1_MAC000003)"
   ]
  },
  {
   "cell_type": "code",
   "execution_count": 113,
   "metadata": {
    "collapsed": false
   },
   "outputs": [
    {
     "data": {
      "text/html": [
       "<div>\n",
       "<table border=\"1\" class=\"dataframe\">\n",
       "  <thead>\n",
       "    <tr style=\"text-align: right;\">\n",
       "      <th></th>\n",
       "      <th>LCLid</th>\n",
       "      <th>stdorToU</th>\n",
       "      <th>DateTime</th>\n",
       "      <th>KWH/hh (per half hour)</th>\n",
       "      <th>Acorn</th>\n",
       "      <th>Acorn_grouped</th>\n",
       "      <th>date</th>\n",
       "      <th>time</th>\n",
       "    </tr>\n",
       "  </thead>\n",
       "  <tbody>\n",
       "    <tr>\n",
       "      <th>24158</th>\n",
       "      <td>MAC000003</td>\n",
       "      <td>Std</td>\n",
       "      <td>2012-02-20 13:00:00.0000000</td>\n",
       "      <td>0.976</td>\n",
       "      <td>ACORN-P</td>\n",
       "      <td>Adversity</td>\n",
       "      <td>2012-02-20</td>\n",
       "      <td>13:00:00</td>\n",
       "    </tr>\n",
       "    <tr>\n",
       "      <th>24159</th>\n",
       "      <td>MAC000003</td>\n",
       "      <td>Std</td>\n",
       "      <td>2012-02-20 13:30:00.0000000</td>\n",
       "      <td>0.834</td>\n",
       "      <td>ACORN-P</td>\n",
       "      <td>Adversity</td>\n",
       "      <td>2012-02-20</td>\n",
       "      <td>13:30:00</td>\n",
       "    </tr>\n",
       "    <tr>\n",
       "      <th>24160</th>\n",
       "      <td>MAC000003</td>\n",
       "      <td>Std</td>\n",
       "      <td>2012-02-20 14:00:00.0000000</td>\n",
       "      <td>0.577</td>\n",
       "      <td>ACORN-P</td>\n",
       "      <td>Adversity</td>\n",
       "      <td>2012-02-20</td>\n",
       "      <td>14:00:00</td>\n",
       "    </tr>\n",
       "    <tr>\n",
       "      <th>24161</th>\n",
       "      <td>MAC000003</td>\n",
       "      <td>Std</td>\n",
       "      <td>2012-02-20 14:30:00.0000000</td>\n",
       "      <td>0.63</td>\n",
       "      <td>ACORN-P</td>\n",
       "      <td>Adversity</td>\n",
       "      <td>2012-02-20</td>\n",
       "      <td>14:30:00</td>\n",
       "    </tr>\n",
       "    <tr>\n",
       "      <th>24162</th>\n",
       "      <td>MAC000003</td>\n",
       "      <td>Std</td>\n",
       "      <td>2012-02-20 15:00:00.0000000</td>\n",
       "      <td>0.679</td>\n",
       "      <td>ACORN-P</td>\n",
       "      <td>Adversity</td>\n",
       "      <td>2012-02-20</td>\n",
       "      <td>15:00:00</td>\n",
       "    </tr>\n",
       "  </tbody>\n",
       "</table>\n",
       "</div>"
      ],
      "text/plain": [
       "           LCLid stdorToU                     DateTime  \\\n",
       "24158  MAC000003      Std  2012-02-20 13:00:00.0000000   \n",
       "24159  MAC000003      Std  2012-02-20 13:30:00.0000000   \n",
       "24160  MAC000003      Std  2012-02-20 14:00:00.0000000   \n",
       "24161  MAC000003      Std  2012-02-20 14:30:00.0000000   \n",
       "24162  MAC000003      Std  2012-02-20 15:00:00.0000000   \n",
       "\n",
       "      KWH/hh (per half hour)     Acorn Acorn_grouped        date      time  \n",
       "24158                  0.976   ACORN-P     Adversity  2012-02-20  13:00:00  \n",
       "24159                  0.834   ACORN-P     Adversity  2012-02-20  13:30:00  \n",
       "24160                  0.577   ACORN-P     Adversity  2012-02-20  14:00:00  \n",
       "24161                   0.63   ACORN-P     Adversity  2012-02-20  14:30:00  \n",
       "24162                  0.679   ACORN-P     Adversity  2012-02-20  15:00:00  "
      ]
     },
     "execution_count": 113,
     "metadata": {},
     "output_type": "execute_result"
    }
   ],
   "source": [
    "df_v2_1_MAC000003.head()"
   ]
  },
  {
   "cell_type": "code",
   "execution_count": 114,
   "metadata": {
    "collapsed": false
   },
   "outputs": [
    {
     "name": "stdout",
     "output_type": "stream",
     "text": [
      "Number of days household MAC000003 has data for: 740\n"
     ]
    }
   ],
   "source": [
    "print 'Number of days household MAC000003 has data for:', len(df_v2_1_MAC000003['date'].unique())"
   ]
  },
  {
   "cell_type": "code",
   "execution_count": 115,
   "metadata": {
    "collapsed": true
   },
   "outputs": [],
   "source": [
    "def power_string_to_num(df):\n",
    "    # converting 'KWH/hh (per half hour)' into numerical type\n",
    "    pd.to_numeric(df['KWH/hh (per half hour) '], errors='ignore')\n",
    "    df['KWH/hh (per half hour)'] = pd.to_numeric(df['KWH/hh (per half hour) '], errors='coerce')"
   ]
  },
  {
   "cell_type": "code",
   "execution_count": 116,
   "metadata": {
    "collapsed": false
   },
   "outputs": [
    {
     "name": "stderr",
     "output_type": "stream",
     "text": [
      "/Users/anatoly/anaconda/lib/python2.7/site-packages/ipykernel/__main__.py:4: SettingWithCopyWarning: \n",
      "A value is trying to be set on a copy of a slice from a DataFrame.\n",
      "Try using .loc[row_indexer,col_indexer] = value instead\n",
      "\n",
      "See the caveats in the documentation: http://pandas.pydata.org/pandas-docs/stable/indexing.html#indexing-view-versus-copy\n"
     ]
    }
   ],
   "source": [
    "power_string_to_num(df_v2_1_MAC000003)"
   ]
  },
  {
   "cell_type": "code",
   "execution_count": 123,
   "metadata": {
    "collapsed": false
   },
   "outputs": [
    {
     "data": {
      "image/png": "[encoded data removed]",
      "text/plain": [
       "<matplotlib.figure.Figure at 0x11af72e90>"
      ]
     },
     "metadata": {},
     "output_type": "display_data"
    }
   ],
   "source": [
    "plot_one_day_usage(df_v2_1_MAC000003, '2012-02-20')"
   ]
  },
  {
   "cell_type": "code",
   "execution_count": 124,
   "metadata": {
    "collapsed": false
   },
   "outputs": [
    {
     "data": {
      "image/png": "[encoded data removed]",
      "text/plain": [
       "<matplotlib.figure.Figure at 0x11d605950>"
      ]
     },
     "metadata": {},
     "output_type": "display_data"
    }
   ],
   "source": [
    "plot_one_day_usage(df_v2_1_MAC000003, '2012-03-20')"
   ]
  },
  {
   "cell_type": "code",
   "execution_count": 125,
   "metadata": {
    "collapsed": false
   },
   "outputs": [
    {
     "data": {
      "image/png": "[encoded data removed]",
      "text/plain": [
       "<matplotlib.figure.Figure at 0x12291a090>"
      ]
     },
     "metadata": {},
     "output_type": "display_data"
    }
   ],
   "source": [
    "plot_one_day_usage(df_v2_1_MAC000003, '2012-04-20')"
   ]
  },
  {
   "cell_type": "code",
   "execution_count": 126,
   "metadata": {
    "collapsed": false
   },
   "outputs": [
    {
     "data": {
      "image/png": "[encoded data removed]",
      "text/plain": [
       "<matplotlib.figure.Figure at 0x11d1fe5d0>"
      ]
     },
     "metadata": {},
     "output_type": "display_data"
    }
   ],
   "source": [
    "plot_one_day_usage(df_v2_1_MAC000003, '2012-05-20')"
   ]
  },
  {
   "cell_type": "markdown",
   "metadata": {},
   "source": [
    "## Different households have different number of days each of them was observed."
   ]
  },
  {
   "cell_type": "code",
   "execution_count": null,
   "metadata": {
    "collapsed": true
   },
   "outputs": [],
   "source": []
  }
 ],
 "metadata": {
  "anaconda-cloud": {},
  "kernelspec": {
   "display_name": "Python [Root]",
   "language": "python",
   "name": "Python [Root]"
  },
  "language_info": {
   "codemirror_mode": {
    "name": "ipython",
    "version": 2
   },
   "file_extension": ".py",
   "mimetype": "text/x-python",
   "name": "python",
   "nbconvert_exporter": "python",
   "pygments_lexer": "ipython2",
   "version": "2.7.12"
  }
 },
 "nbformat": 4,
 "nbformat_minor": 0
}
